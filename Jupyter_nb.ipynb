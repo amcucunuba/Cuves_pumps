{
 "cells": [
  {
   "cell_type": "code",
   "execution_count": null,
   "metadata": {},
   "outputs": [],
   "source": [
    "from openpyxl import load_workbook\n",
    "\n",
    "# # Ruta y el nombre del archivo .xlsm\n",
    "# archivo_xlsm = ('PREDIC_SET.xlsm')\n",
    "\n",
    "# # Cargar el archivo .xlsm\n",
    "# workbook = load_workbook(archivo_xlsm, keep_vba=False)  # Establece keep_vba en False para eliminar las macros\n",
    "\n",
    "# # Guardar el archivo como .xlsx\n",
    "# archivo_xlsx = 'archivo.xlsx'\n",
    "# workbook.save(archivo_xlsx)"
   ]
  },
  {
   "cell_type": "code",
   "execution_count": null,
   "metadata": {},
   "outputs": [],
   "source": [
    "import pandas as pd\n",
    "from datetime import datetime\n",
    "\n",
    "archivo_excel = 'C:\\\\Users\\\\User\\\\Desktop\\\\Programming\\\\Curves_pumps\\\\archivo.xlsx'\n",
    "documento_base = pd.read_excel(archivo_excel, sheet_name= None)\n",
    "\n",
    "## definir las hojas a eliminar\n",
    "del documento_base['PREDICT'], documento_base['GRAFICAS Kwh-Bbl'], documento_base['BACKLOG 2022'], documento_base['PROTECCIONES MURPHY'], documento_base['Medida Fondo'], documento_base['VERSION SOFTWARE'], documento_base['PLAN DE ACCION EVACUADAS'], documento_base['Sheet2']\n",
    "\n",
    "print(type(documento_base))        "
   ]
  },
  {
   "cell_type": "code",
   "execution_count": null,
   "metadata": {},
   "outputs": [],
   "source": [
    "for key, hoja in documento_base.items():\n",
    "    hoja.drop([0], inplace= True) #elimina la primera fila de datos\n",
    "    hoja.insert(0, 'WELL', value= key)#insertar la columna con el nombre de cada pozo\n",
    "    hoja.ffill(inplace=True) #rellenar los datos vacios con el numero anterior.\n",
    "    # print(hoja)    \n",
    "print(documento_base)"
   ]
  },
  {
   "cell_type": "code",
   "execution_count": null,
   "metadata": {},
   "outputs": [],
   "source": [
    "#Eliminar columnas que no se necesitan, \n",
    "#cuando solo se conocen los nombres de las columnas a utilizar.\n",
    "columnas = ['WELL', 'FECHA', 'FRECUENCIA', '% THD-VOL IN VSD', '% THD-AMP IN VSD',\n",
    "       'PF IN VSD', '% THD-VOL OUT VSD', '% THD-AMP OUT VSD', 'PF OUT VSD',\n",
    "       'VOL MTR A', 'VOL MTR B', 'VOL MTR C', 'VOL MTR A-Tierra',\n",
    "       'VOL MTR B-Tierra', 'VOL MTR C-Tierra', '% THD-AMP MTR', 'PF MTR',\n",
    "       'MAX VOL IN VSD', 'MAX AMP IN VSD', 'MAX VOL OUT VSD', 'RED KVA',\n",
    "       '%RED KVA', 'RED KW', 'MAX AMP OUT VSD', '% LOAD VSD', 'KVA VSD',\n",
    "       'KVA SUT', '% LOAD SUT', 'AMP MOTOR', '% LOAD MTR', '% DESB MTR',\n",
    "       'VOL-A CON D', 'AMP-A CON D', 'VOL-B CON D', 'AMP-B CON D',\n",
    "       'VOL-C CON D', 'AMP-C CON D', '%THD VOL CON D', '%THD AMP CON D',\n",
    "       'P.F. CON D', 'VOL-A CON Y', 'AMP-A CON Y', 'VOL-B CON Y',\n",
    "       'AMP-B CON Y', 'VOL-C CON Y', 'AMP-C CON Y', '%THD VOL CON Y',\n",
    "       '%THD AMP CON Y', 'P.F. CON Y', 'PIP (psi)', 'T Motor (F)', 'BFPD',\n",
    "       'KW-BBL']\n",
    "for key, hoja in documento_base.items():\n",
    "    if (col in hoja.columns for col in columnas):\n",
    "        columnas_a_eliminar = [col for col in hoja.columns if col not in columnas]\n",
    "        print (columnas_a_eliminar)\n",
    "        hoja.drop(columns=columnas_a_eliminar, inplace=True)\n",
    "\n",
    "print(documento_base)\n"
   ]
  },
  {
   "cell_type": "code",
   "execution_count": null,
   "metadata": {},
   "outputs": [],
   "source": [
    "#verificar que se eliminaron las hojas inútiles\n",
    "for key, hoja in documento_base.items():\n",
    "    print (hoja.columns)"
   ]
  },
  {
   "cell_type": "code",
   "execution_count": null,
   "metadata": {},
   "outputs": [],
   "source": [
    "# Eliminar columnas que no se necesitan\n",
    "# Con los nombres de las columnas inútiles, crear un lista y eliminarlas\n",
    "# a_eliminar = ['Unnamed: 50', 'Unnamed: 51', 'Unnamed: 52',\n",
    "#             'FECHA.1', 'FRECUENCIA.1', 'BWPD', 'DIFERENCIA BOPD',\n",
    "#             'DIFERENCIA BWPD', 'BOPD', 'BFPD.1','Q. OIL',\n",
    "#             'DIFERENCIA BFPD', '%BSW', '°API', 'NETOS', 'Q. WATER']\n",
    "# for key, hoja in documento_base.items():\n",
    "#     columnas_a_eliminar = [col for col in a_eliminar if col in hoja.columns]\n",
    "#     hoja.drop(columns=columnas_a_eliminar, inplace=True)\n",
    "\n",
    "# for key, hoja in documento_base.items():\n",
    "#     print (hoja.columns)"
   ]
  },
  {
   "cell_type": "code",
   "execution_count": null,
   "metadata": {},
   "outputs": [],
   "source": [
    "#creear una lista con los dt\n",
    "info_list = []\n",
    "for info in documento_base.values():\n",
    "    info_list.append(info)\n",
    "\n",
    "print(type(info_list))\n",
    "# print(info_list)\n",
    "\n",
    "# Crear un dataframe a partir de lista de dataframes\n",
    "dataframe1 = pd.concat(info_list, axis=0, ignore_index=True )\n",
    "\n",
    "valor_a_eliminar = 'DESPUES DE INGRESAR LOS PRIMEROS DATOS BORRAR LAS CELDAS EN AMARILLO CON DELETE CELLS Y UP'\n",
    "dataframe1 = dataframe1[dataframe1['FRECUENCIA'] != valor_a_eliminar]\n",
    "\n",
    "print (type(dataframe1))\n",
    "print (dataframe1.dtypes)\n"
   ]
  },
  {
   "cell_type": "code",
   "execution_count": null,
   "metadata": {},
   "outputs": [],
   "source": [
    "valores_a_reemplazar = ['nd', 'NO', '1211-9', 'fds', '-', 'FDS', 'cñg8d', 'ND', ' - ', '0.86|', \n",
    "                        'SIN DATOS', 'sin datos', 'o.45', \"299'\", 'No lectura', 'No medido', \n",
    "                        'No registra']\n",
    "\n",
    "for columna in dataframe1.columns:\n",
    "    if columna == 'WELL' or columna == 'FECHA':\n",
    "        continue  # Saltar a la siguiente columna si es de tipo 'datetime' o 'str'\n",
    "    \n",
    "    for indice, valor in dataframe1[columna].items():\n",
    "        if isinstance(valor, str):\n",
    "            # Reemplazar comas por puntos\n",
    "            valor = valor.replace(',', '.')\n",
    "            # Reemplazar \"nd\" por 0\n",
    "        if valor in valores_a_reemplazar:\n",
    "            valor = 'NaN'\n",
    "        dataframe1.at[indice, columna] = float(valor)\n",
    "        \n",
    "    if dataframe1[columna].dtype == 'object':\n",
    "        dataframe1[columna] = dataframe1[columna].astype(float)\n",
    "\n",
    "\n",
    "print (dataframe1.dtypes)"
   ]
  },
  {
   "cell_type": "code",
   "execution_count": null,
   "metadata": {},
   "outputs": [],
   "source": [
    "for i in dataframe1['FRECUENCIA']:\n",
    "    print( i, type(i))"
   ]
  },
  {
   "cell_type": "code",
   "execution_count": null,
   "metadata": {},
   "outputs": [],
   "source": [
    "# pedacito_df = dataframe1.iloc[4460:4550, 0:6]\n",
    "# print(pedacito_df)"
   ]
  },
  {
   "cell_type": "code",
   "execution_count": null,
   "metadata": {},
   "outputs": [],
   "source": [
    "#eliminar la frase\n",
    "# valor_a_eliminar = 'DESPUES DE INGRESAR LOS PRIMEROS DATOS BORRAR LAS CELDAS EN AMARILLO CON DELETE CELLS Y UP'\n",
    "# pedacito_df = pedacito_df[pedacito_df['FRECUENCIA'] != valor_a_eliminar]\n",
    "# print(pedacito_df)"
   ]
  },
  {
   "cell_type": "code",
   "execution_count": null,
   "metadata": {},
   "outputs": [],
   "source": [
    "# for i in pedacito_df['FRECUENCIA']:\n",
    "#     print( i, type(i))\n"
   ]
  },
  {
   "cell_type": "code",
   "execution_count": null,
   "metadata": {},
   "outputs": [],
   "source": [
    "# num_columnas = dataframe1.shape[1]\n",
    "# print ('Número de columnas:', num_columnas)"
   ]
  },
  {
   "cell_type": "code",
   "execution_count": null,
   "metadata": {},
   "outputs": [],
   "source": [
    "# for columna in dataframe1.columns:\n",
    "#     if columna == 'WELL' or columna == 'FECHA':\n",
    "#             continue  # Saltar a la siguiente columna si es de tipo 'datetime' o 'str'\n",
    "#     if dataframe1[columna].dtype == 'object':\n",
    "#         for indice, valor in dataframe1[columna].items():\n",
    "#             if isinstance(valor, str):\n",
    "#             # Reemplazar comas por puntos\n",
    "#                 valor = valor.replace(',', '.')\n",
    "#                 dataframe1.at[indice, columna] = valor\n",
    "#             if dataframe1[columna].dtype == 'object':\n",
    "#                 # el metodo astype() convierte los datos str, data type, Series or \n",
    "#                 # Mapping of column name -> data type, a un mismo tipo de datos\n",
    "#                 dataframe1[columna] = dataframe1[columna].astype(float)\n",
    "# print (dataframe1.dtypes)"
   ]
  },
  {
   "cell_type": "code",
   "execution_count": null,
   "metadata": {},
   "outputs": [],
   "source": [
    "# # Crear df para evaluar los fragmentos de código\n",
    "# df_essai = dataframe1.iloc[:4500, 0:6]\n",
    "# print (df_essai)\n",
    "# print(df_essai['% THD-VOL IN VSD'].dtypes)"
   ]
  },
  {
   "cell_type": "code",
   "execution_count": null,
   "metadata": {},
   "outputs": [],
   "source": [
    "# for columna in df_essai.columns:\n",
    "#     if columna == 'WELL' or columna == 'FECHA':\n",
    "#         continue  # Saltar a la siguiente columna si es de tipo 'datetime' o 'str'\n",
    "#     for indice, valor in df_essai[columna].items():\n",
    "#             if isinstance(valor, str):\n",
    "#             # Reemplazar comas por puntos\n",
    "#                 valor = valor.replace('nd', 0)\n",
    "#                 df_essai.at[indice, columna] = valor\n",
    "#             if df_essai[columna].dtype == 'object':\n",
    "#                 df_essai[columna] = df_essai[columna].str.replace(',', '.').astype(float)\n",
    "\n",
    "\n",
    "# print (df_essai)\n",
    "# print (df_essai.dtypes)"
   ]
  },
  {
   "cell_type": "code",
   "execution_count": null,
   "metadata": {},
   "outputs": [],
   "source": [
    "# # el metodo astype() convierte los datos str, data type, Series or \n",
    "# # Mapping of column name -> data type, a un mismo tipo de datos \n",
    "# for columna in df_essai.columns:\n",
    "#    if columna == 'WELL' or columna == 'FECHA':\n",
    "#       continue  # Saltar a la siguiente columna si es de tipo 'datetime' o 'str'\n",
    "#    if df_essai[columna].dtype == 'object':\n",
    "#       df_essai[columna] = df_essai[columna].astype(float)\n",
    "# print(df_essai['PF IN VSD'])\n",
    "# print(df_essai.dtypes)"
   ]
  },
  {
   "cell_type": "code",
   "execution_count": null,
   "metadata": {},
   "outputs": [],
   "source": [
    "# for i in df_essai['% THD-VOL IN VSD']:\n",
    "#     print( i, type(i))\n",
    "# dataframe1['PF MTR'].mean()\n",
    "# type(dataframe1['PF MTR'])"
   ]
  },
  {
   "cell_type": "code",
   "execution_count": 272,
   "metadata": {},
   "outputs": [
    {
     "name": "stdout",
     "output_type": "stream",
     "text": [
      "WELL\n",
      "FECHA\n",
      "FRECUENCIA\n",
      "% THD-VOL IN VSD\n",
      "PF IN VSD\n",
      "% THD-VOL OUT VSD\n",
      "PF OUT VSD\n",
      "VOL MTR B-Tierra\n",
      "PF MTR\n",
      "%RED KVA\n",
      "PIP (psi)\n",
      "T Motor (F)\n"
     ]
    }
   ],
   "source": [
    "# #encontrar la fila donde esta \"DESPUES\"\n",
    "# for columna in dataframe1.columns:\n",
    "#    if dataframe1[columna].dtype == 'object':\n",
    "#       columna == 'nd'\n",
    "#       print(columna)\n",
    "      "
   ]
  },
  {
   "cell_type": "code",
   "execution_count": null,
   "metadata": {},
   "outputs": [],
   "source": [
    "# def limpiar_valor(valor):\n",
    "#     # Verificar si el valor es una cadena (str)\n",
    "#     if isinstance(valor, str):\n",
    "#         # Reemplazar comas por puntos\n",
    "#         valor = valor.replace(',', '.')\n",
    "#         # Eliminar letras y otros caracteres no deseados\n",
    "#         valor = ''.join(caracter for caracter in valor if caracter.isdigit() or caracter == '.')\n",
    "#     return valor\n",
    "\n",
    "# for columna in df_essai.columns:\n",
    "#     df_essai[columna] = df_essai[columna].apply(limpiar_valor)\n",
    "\n",
    "# print(df_essai)\n",
    "# print(df_essai['% THD-VOL IN VSD'].dtypes)"
   ]
  },
  {
   "cell_type": "code",
   "execution_count": null,
   "metadata": {},
   "outputs": [],
   "source": [
    "# from datetime import datetime\n",
    "# import plotly_express as px\n",
    "# print (df_essai['FECHA'].dtypes)\n",
    "# #ajustar la fecha al formato datetime\n",
    "# for indice, fila in df_essai.iterrows():\n",
    "#     fecha_str = df_essai['FECHA']  # Obtener la fecha en formato de cadena de la fila\n",
    "#     if isinstance(fecha_str, str): # evaluar si la variable fecha es un str\n",
    "#         fecha_corregida = datetime.strptime(fecha_str, \"%d/%m/%y\")\n",
    "#         df_essai.at[indice, 'FECHA'] = fecha_corregida #con at se accede al valor único.\n",
    "\n",
    "\n",
    "\n",
    "# # print(dataframe1)\n",
    "# print (df_essai['FECHA'])\n",
    "# print (df_essai['FECHA'].dtypes)"
   ]
  },
  {
   "cell_type": "code",
   "execution_count": null,
   "metadata": {},
   "outputs": [],
   "source": [
    "# # imprimir grafica del dataframe\n",
    "# import plotly_express as px\n",
    "\n",
    "# fig = px.line(df_essai, x='FECHA', y= '% THD-VOL IN VSD', color= 'WELL')\n",
    "\n",
    "# fig.show()"
   ]
  },
  {
   "cell_type": "code",
   "execution_count": null,
   "metadata": {},
   "outputs": [],
   "source": [
    "# #Ajustar fecha al formato datetime\n",
    "# # lista de fecha\n",
    "# fecha_str = ['2022-10-25', '2010º-09-11', '2021-05-13']\n",
    "# #print(type(fecha_str[1]))\n",
    "# for fecha in fecha_str:\n",
    "#     try:\n",
    "#         fecha_corregida = datetime.strptime(fecha, \"%Y-%m-%d\")\n",
    "#         print(fecha_corregida)\n",
    "#     except ValueError:\n",
    "#         print(f\"La fecha '{fecha}' no coincide con el formato esperado (YYYY-MM-DD).\")\n",
    "    \n",
    "# #print(type(fecha_str))\n"
   ]
  }
 ],
 "metadata": {
  "kernelspec": {
   "display_name": "Python 3",
   "language": "python",
   "name": "python3"
  },
  "language_info": {
   "codemirror_mode": {
    "name": "ipython",
    "version": 3
   },
   "file_extension": ".py",
   "mimetype": "text/x-python",
   "name": "python",
   "nbconvert_exporter": "python",
   "pygments_lexer": "ipython3",
   "version": "3.11.3"
  },
  "orig_nbformat": 4
 },
 "nbformat": 4,
 "nbformat_minor": 2
}
