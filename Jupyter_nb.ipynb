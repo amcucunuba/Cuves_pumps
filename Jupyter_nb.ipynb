{
 "cells": [
  {
   "cell_type": "code",
   "execution_count": null,
   "metadata": {},
   "outputs": [],
   "source": [
    "import pandas as pd\n",
    "from datetime import datetime\n",
    "\n",
    "archivo_excel = 'C:\\\\Users\\\\User\\\\Desktop\\\\Programming\\\\Curves_pumps\\\\archivo.xlsx'\n",
    "doc = pd.read_excel(archivo_excel, sheet_name= None)\n",
    "\n",
    "print(type(doc))        "
   ]
  },
  {
   "cell_type": "code",
   "execution_count": null,
   "metadata": {},
   "outputs": [],
   "source": [
    "## definir las hojas a eliminar \n",
    "# hojas_eliminar = ['PREDICT', 'GRAFICAS Kwh-Bbl', 'BACKLOG 2022', 'PROTECCIONES MURPHY', \n",
    "                #    'Medida Fondo','VERSION SOFTWARE', 'PLAN DE ACCION EVACUADAS']\n",
    "\n",
    "del doc['PREDICT'], doc['GRAFICAS Kwh-Bbl'], doc['BACKLOG 2022'], doc['PROTECCIONES MURPHY'], doc['Medida Fondo'], doc['VERSION SOFTWARE'], doc['PLAN DE ACCION EVACUADAS'], doc['Sheet2']\n",
    "\n",
    "# for hoja in hojas_eliminar: \n",
    "#     if hoja in doc.columns: \n",
    "#         doc1 = doc.drop(hoja, axis=1)\n",
    "# print (doc)\n"
   ]
  },
  {
   "cell_type": "code",
   "execution_count": null,
   "metadata": {},
   "outputs": [],
   "source": [
    "for key, hoja in doc.items():\n",
    "    hoja.drop([0], inplace= True)\n",
    "    hoja.insert(0, 'WELL', value= key)\n",
    "    hoja.ffill(inplace=True)\n",
    "    # print(hoja)    \n",
    "print(doc)\n"
   ]
  },
  {
   "cell_type": "code",
   "execution_count": null,
   "metadata": {},
   "outputs": [],
   "source": [
    "columnas = ['WELL', 'FECHA', 'FRECUENCIA', '% THD-VOL IN VSD', '% THD-AMP IN VSD',\n",
    "       'PF IN VSD', '% THD-VOL OUT VSD', '% THD-AMP OUT VSD', 'PF OUT VSD',\n",
    "       'VOL MTR A', 'VOL MTR B', 'VOL MTR C', 'VOL MTR A-Tierra',\n",
    "       'VOL MTR B-Tierra', 'VOL MTR C-Tierra', '% THD-AMP MTR', 'PF MTR',\n",
    "       'MAX VOL IN VSD', 'MAX AMP IN VSD', 'MAX VOL OUT VSD', 'RED KVA',\n",
    "       '%RED KVA', 'RED KW', 'MAX AMP OUT VSD', '% LOAD VSD', 'KVA VSD',\n",
    "       'KVA SUT', '% LOAD SUT', 'AMP MOTOR', '% LOAD MTR', '% DESB MTR',\n",
    "       'VOL-A CON D', 'AMP-A CON D', 'VOL-B CON D', 'AMP-B CON D',\n",
    "       'VOL-C CON D', 'AMP-C CON D', '%THD VOL CON D', '%THD AMP CON D',\n",
    "       'P.F. CON D', 'VOL-A CON Y', 'AMP-A CON Y', 'VOL-B CON Y',\n",
    "       'AMP-B CON Y', 'VOL-C CON Y', 'AMP-C CON Y', '%THD VOL CON Y',\n",
    "       '%THD AMP CON Y', 'P.F. CON Y', 'PIP (psi)', 'T Motor (F)', 'BFPD',\n",
    "       'KW-BBL']\n",
    "for key, hoja in doc.items():\n",
    "    if all(col in hoja.columns for col in columnas):\n",
    "        print(f\"Las columnas de la hoja '{key}' coinciden con la lista de nombres.\")\n",
    "    else:\n",
    "        columnas_a_eliminar = [col for col in hoja.columns if col not in columnas]\n",
    "        print (columnas_a_eliminar)\n",
    "        hoja.drop(columns=columnas_a_eliminar, inplace=True)\n",
    "\n",
    "print(doc)\n"
   ]
  },
  {
   "cell_type": "code",
   "execution_count": null,
   "metadata": {},
   "outputs": [],
   "source": [
    "doc['TRD-04'][['WELL', 'FECHA', 'FRECUENCIA']]"
   ]
  },
  {
   "cell_type": "code",
   "execution_count": null,
   "metadata": {},
   "outputs": [],
   "source": [
    "for key, hoja in doc.items():\n",
    "    print (hoja.columns)"
   ]
  },
  {
   "cell_type": "code",
   "execution_count": null,
   "metadata": {},
   "outputs": [],
   "source": [
    "a_eliminar = ['FECHA.1', 'FRECUENCIA.1', 'BWPD',\n",
    "       'DIFERENCIA BWPD', 'BOPD', 'DIFERENCIA BOPD', 'BFPD.1',\n",
    "       'DIFERENCIA BFPD', '%BSW', '°API', 'NETOS']\n",
    "for key, hoja in doc.items():\n",
    "    columnas_a_eliminar = [col for col in a_eliminar if col in hoja.columns]\n",
    "    hoja.drop(columns=columnas_a_eliminar, inplace=True)\n",
    "\n",
    "for key, hoja in doc.items():\n",
    "    print (hoja.columns)"
   ]
  },
  {
   "cell_type": "code",
   "execution_count": null,
   "metadata": {},
   "outputs": [],
   "source": [
    "#creear una lista con las dt\n",
    "info_list = []\n",
    "for info in doc.values():\n",
    "    info_list.append(info)\n",
    "\n",
    "print(type(info_list))\n",
    "# print(info_list)\n",
    "\n",
    "# Crear un dataframe a partir de lista de dataframes\n",
    "dataframe1 = pd.concat(info_list, axis=0, ignore_index=True )\n",
    "print (type(dataframe1))\n",
    "print (dataframe1.dtypes)\n",
    "\n",
    "# print(dataframe1)"
   ]
  },
  {
   "cell_type": "code",
   "execution_count": null,
   "metadata": {},
   "outputs": [],
   "source": [
    "df_essai = dataframe1.iloc[:20, 0:4]\n",
    "\n",
    "print(df_essai)\n",
    "print(df_essai['% THD-VOL IN VSD'].dtypes)\n",
    "df_essai.dtypes"
   ]
  },
  {
   "cell_type": "code",
   "execution_count": null,
   "metadata": {},
   "outputs": [],
   "source": [
    "for i in df_essai['FRECUENCIA']:\n",
    "    print( i, type(i))\n",
    "\n",
    "\n",
    "df_essai['FRECUENCIA'].mean()\n",
    "type(df_essai['FRECUENCIA'])"
   ]
  },
  {
   "cell_type": "code",
   "execution_count": null,
   "metadata": {},
   "outputs": [],
   "source": [
    "def limpiar_valor(valor):\n",
    "    # Verificar si el valor es una cadena (str)\n",
    "    if isinstance(valor, str):\n",
    "        # Reemplazar comas por puntos\n",
    "        valor = valor.replace(',', '.')\n",
    "        # Eliminar letras y otros caracteres no deseados\n",
    "        valor = ''.join(caracter for caracter in valor if caracter.isdigit() or caracter == '.')\n",
    "    return valor\n",
    "\n",
    "for columna in df_essai.columns:\n",
    "    df_essai[columna] = df_essai[columna].apply(limpiar_valor)\n",
    "\n",
    "print(df_essai)\n",
    "print(df_essai['% THD-VOL IN VSD'].dtypes)"
   ]
  },
  {
   "cell_type": "code",
   "execution_count": null,
   "metadata": {},
   "outputs": [],
   "source": [
    "# def encontrar_obj(objeto):\n",
    "#     # verificar si el valor es una cadena (str)\n",
    "#     if isinstance(objeto, object):\n",
    "#         # devuelvame el objeto\n",
    "#         return objeto\n",
    "\n",
    "# Itera a través de las columnas del DataFrame\n",
    "# for columna in df_essai.columns:\n",
    "#     # Verifica si el valor es una cadena (str)\n",
    "#     if df_essai[columna].dtype == 'object':\n",
    "#         # Realiza alguna operación en los valores de tipo cadena\n",
    "#         # Por ejemplo, imprimir los valores encontrados\n",
    "#         print(f\"Valores en '{columna}':\")\n",
    "#         for valor in df_essai[columna]:\n",
    "#             print(valor)\n",
    "\n",
    "# Itera a través de las columnas del DataFrame\n",
    "for columna in df_essai.columns:\n",
    "    # Verifica si la columna contiene valores de tipo cadena (str) o no es nula\n",
    "    if df_essai[columna].dtype == 'object' and not df_essai[columna].isnull().all():\n",
    "        # Realiza alguna operación en los valores de tipo cadena\n",
    "        # Por ejemplo, imprimir los valores encontrados\n",
    "        print(f\"Valores en '{columna}':\")\n",
    "        for valor in df_essai[columna]:\n",
    "            if not pd.isnull(valor):\n",
    "                print(valor)           "
   ]
  },
  {
   "cell_type": "code",
   "execution_count": null,
   "metadata": {},
   "outputs": [],
   "source": [
    "from datetime import datetime\n",
    "import plotly_express as px\n",
    "print (df_essai['FECHA'].dtypes)\n",
    "#ajustar la fecha al formato datetime\n",
    "for indice, fila in df_essai.iterrows():\n",
    "    fecha_str = df_essai['FECHA']  # Obtener la fecha en formato de cadena de la fila\n",
    "    if isinstance(fecha_str, str): # evaluar si la variable fecha es un str\n",
    "        fecha_corregida = datetime.strptime(fecha_str, \"%d/%m/%y\")\n",
    "        df_essai.at[indice, 'FECHA'] = fecha_corregida #con at se accede al valor único.\n",
    "\n",
    "\n",
    "\n",
    "# print(dataframe1)\n",
    "print (df_essai['FECHA'])\n",
    "print (df_essai['FECHA'].dtypes)"
   ]
  },
  {
   "cell_type": "code",
   "execution_count": null,
   "metadata": {},
   "outputs": [],
   "source": [
    "# imprimir grafica del dataframe\n",
    "import plotly_express as px\n",
    "\n",
    "fig = px.line(df_essai, x='FECHA', y= '% THD-VOL IN VSD', color= 'WELL')\n",
    "\n",
    "fig.show()"
   ]
  },
  {
   "cell_type": "code",
   "execution_count": 79,
   "metadata": {},
   "outputs": [
    {
     "name": "stdout",
     "output_type": "stream",
     "text": [
      "2022-10-25 00:00:00\n",
      "La fecha '2010º-09-11' no coincide con el formato esperado (YYYY-MM-DD).\n",
      "2021-05-13 00:00:00\n"
     ]
    }
   ],
   "source": [
    "#Ajustar fecha al formato datetime\n",
    "# lista de fecha\n",
    "fecha_str = ['2022-10-25', '2010º-09-11', '2021-05-13']\n",
    "#print(type(fecha_str[1]))\n",
    "for fecha in fecha_str:\n",
    "    try:\n",
    "        fecha_corregida = datetime.strptime(fecha, \"%Y-%m-%d\")\n",
    "        print(fecha_corregida)\n",
    "    except ValueError:\n",
    "        print(f\"La fecha '{fecha}' no coincide con el formato esperado (YYYY-MM-DD).\")\n",
    "    \n",
    "#print(type(fecha_str))\n"
   ]
  },
  {
   "cell_type": "code",
   "execution_count": null,
   "metadata": {},
   "outputs": [],
   "source": [
    "dict_1 = {'uno': [1, 2, 3], 'dos':[4,5,6], 'tres':[7,8,9]}\n",
    "dict_2 = {'uno': [10, 12, 13], 'dos':[14,15,16], 'tres':[17,18,19]}\n",
    "dict_3 = {'uno': [110, 112, 113], 'dos':[114,115,116], 'tres':[117,118,119]}\n",
    "\n",
    "print(dict_1)\n",
    "\n",
    "dt2 = pd.DataFrame(dict_1) \n",
    "dt3 = pd.DataFrame(dict_2) \n",
    "dt4 = pd.DataFrame(dict_3) \n",
    "\n",
    "lista = [dt2, dt3, dt4]\n",
    "print(lista[1])\n",
    "# print(dt2)\n",
    "# print(dt3)\n",
    "# print(dt4)\n",
    "\n",
    "# print(type(dt3))"
   ]
  },
  {
   "cell_type": "code",
   "execution_count": null,
   "metadata": {},
   "outputs": [],
   "source": [
    "dt5 = pd.concat(lista)\n",
    "print(dt5)\n",
    "print(type(dt5))"
   ]
  },
  {
   "cell_type": "code",
   "execution_count": null,
   "metadata": {},
   "outputs": [],
   "source": [
    "dt6 = pd.concat(lista, axis=1)\n",
    "print(dt6)"
   ]
  },
  {
   "cell_type": "code",
   "execution_count": null,
   "metadata": {},
   "outputs": [],
   "source": [
    "print(type(doc))"
   ]
  },
  {
   "cell_type": "code",
   "execution_count": null,
   "metadata": {},
   "outputs": [],
   "source": [
    "# arreglar objetos de las columnas\n",
    "#"
   ]
  }
 ],
 "metadata": {
  "kernelspec": {
   "display_name": "Python 3",
   "language": "python",
   "name": "python3"
  },
  "language_info": {
   "codemirror_mode": {
    "name": "ipython",
    "version": 3
   },
   "file_extension": ".py",
   "mimetype": "text/x-python",
   "name": "python",
   "nbconvert_exporter": "python",
   "pygments_lexer": "ipython3",
   "version": "3.11.3"
  },
  "orig_nbformat": 4
 },
 "nbformat": 4,
 "nbformat_minor": 2
}
