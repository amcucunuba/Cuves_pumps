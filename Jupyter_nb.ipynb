{
 "cells": [
  {
   "cell_type": "code",
   "execution_count": 23,
   "metadata": {},
   "outputs": [
    {
     "name": "stdout",
     "output_type": "stream",
     "text": [
      "<class 'dict'>\n"
     ]
    }
   ],
   "source": [
    "import pandas as pd\n",
    "from datetime import datetime\n",
    "\n",
    "archivo_excel = 'C:\\\\Users\\\\User\\\\Desktop\\\\Programming\\\\Curves_pumps\\\\archivo.xlsx'\n",
    "doc = pd.read_excel(archivo_excel, sheet_name= None)\n",
    "\n",
    "print(type(doc))        "
   ]
  },
  {
   "cell_type": "code",
   "execution_count": 24,
   "metadata": {},
   "outputs": [],
   "source": [
    "## definir las hojas a eliminar \n",
    "# hojas_eliminar = ['PREDICT', 'GRAFICAS Kwh-Bbl', 'BACKLOG 2022', 'PROTECCIONES MURPHY', \n",
    "                #    'Medida Fondo','VERSION SOFTWARE', 'PLAN DE ACCION EVACUADAS']\n",
    "\n",
    "del doc['PREDICT'], doc['GRAFICAS Kwh-Bbl'], doc['BACKLOG 2022'], doc['PROTECCIONES MURPHY'], doc['Medida Fondo'], doc['VERSION SOFTWARE'], doc['PLAN DE ACCION EVACUADAS'], doc['Sheet2']\n",
    "\n",
    "# for hoja in hojas_eliminar: \n",
    "#     if hoja in doc.columns: \n",
    "#         doc1 = doc.drop(hoja, axis=1)\n",
    "# print (doc)\n"
   ]
  },
  {
   "cell_type": "code",
   "execution_count": null,
   "metadata": {},
   "outputs": [],
   "source": [
    "for key, hoja in doc.items():\n",
    "    hoja.drop([0], inplace= True)\n",
    "    hoja.insert(0, 'WELL', value= key)\n",
    "    hoja.ffill(inplace=True)\n",
    "    # print(hoja)    \n",
    "print(doc)\n"
   ]
  },
  {
   "cell_type": "code",
   "execution_count": null,
   "metadata": {},
   "outputs": [],
   "source": [
    "columnas = ['WELL', 'FECHA', 'FRECUENCIA', '% THD-VOL IN VSD', '% THD-AMP IN VSD',\n",
    "       'PF IN VSD', '% THD-VOL OUT VSD', '% THD-AMP OUT VSD', 'PF OUT VSD',\n",
    "       'VOL MTR A', 'VOL MTR B', 'VOL MTR C', 'VOL MTR A-Tierra',\n",
    "       'VOL MTR B-Tierra', 'VOL MTR C-Tierra', '% THD-AMP MTR', 'PF MTR',\n",
    "       'MAX VOL IN VSD', 'MAX AMP IN VSD', 'MAX VOL OUT VSD', 'RED KVA',\n",
    "       '%RED KVA', 'RED KW', 'MAX AMP OUT VSD', '% LOAD VSD', 'KVA VSD',\n",
    "       'KVA SUT', '% LOAD SUT', 'AMP MOTOR', '% LOAD MTR', '% DESB MTR',\n",
    "       'VOL-A CON D', 'AMP-A CON D', 'VOL-B CON D', 'AMP-B CON D',\n",
    "       'VOL-C CON D', 'AMP-C CON D', '%THD VOL CON D', '%THD AMP CON D',\n",
    "       'P.F. CON D', 'VOL-A CON Y', 'AMP-A CON Y', 'VOL-B CON Y',\n",
    "       'AMP-B CON Y', 'VOL-C CON Y', 'AMP-C CON Y', '%THD VOL CON Y',\n",
    "       '%THD AMP CON Y', 'P.F. CON Y', 'PIP (psi)', 'T Motor (F)', 'BFPD',\n",
    "       'KW-BBL']\n",
    "for key, hoja in doc.items():\n",
    "    if all(col in hoja.columns for col in columnas):\n",
    "        print(f\"Las columnas de la hoja '{key}' coinciden con la lista de nombres.\")\n",
    "    else:\n",
    "        columnas_a_eliminar = [col for col in hoja.columns if col not in columnas]\n",
    "        print (columnas_a_eliminar)\n",
    "        hoja.drop(columns=columnas_a_eliminar, inplace=True)\n",
    "\n",
    "print(doc)\n"
   ]
  },
  {
   "cell_type": "code",
   "execution_count": null,
   "metadata": {},
   "outputs": [],
   "source": [
    "for key, hoja in doc.items():\n",
    "    print (hoja.columns)"
   ]
  },
  {
   "cell_type": "code",
   "execution_count": null,
   "metadata": {},
   "outputs": [],
   "source": [
    "a_eliminar = ['FECHA.1', 'FRECUENCIA.1', 'BWPD',\n",
    "       'DIFERENCIA BWPD', 'BOPD', 'DIFERENCIA BOPD', 'BFPD.1',\n",
    "       'DIFERENCIA BFPD', '%BSW', '°API', 'NETOS']\n",
    "for key, hoja in doc.items():\n",
    "    columnas_a_eliminar = [col for col in a_eliminar if col in hoja.columns]\n",
    "    hoja.drop(columns=columnas_a_eliminar, inplace=True)\n",
    "\n",
    "for key, hoja in doc.items():\n",
    "    print (hoja.columns)"
   ]
  },
  {
   "cell_type": "code",
   "execution_count": 63,
   "metadata": {},
   "outputs": [
    {
     "name": "stdout",
     "output_type": "stream",
     "text": [
      "<class 'list'>\n",
      "<class 'pandas.core.frame.DataFrame'>\n",
      "WELL                  object\n",
      "FECHA                 object\n",
      "FRECUENCIA            object\n",
      "% THD-VOL IN VSD      object\n",
      "% THD-AMP IN VSD     float64\n",
      "PF IN VSD             object\n",
      "% THD-VOL OUT VSD     object\n",
      "% THD-AMP OUT VSD    float64\n",
      "PF OUT VSD            object\n",
      "VOL MTR A            float64\n",
      "VOL MTR B            float64\n",
      "VOL MTR C            float64\n",
      "VOL MTR A-Tierra     float64\n",
      "VOL MTR B-Tierra      object\n",
      "VOL MTR C-Tierra     float64\n",
      "% THD-AMP MTR        float64\n",
      "PF MTR                object\n",
      "MAX VOL IN VSD       float64\n",
      "MAX AMP IN VSD       float64\n",
      "MAX VOL OUT VSD      float64\n",
      "RED KVA              float64\n",
      "%RED KVA              object\n",
      "RED KW               float64\n",
      "MAX AMP OUT VSD      float64\n",
      "% LOAD VSD           float64\n",
      "KVA VSD              float64\n",
      "KVA SUT              float64\n",
      "% LOAD SUT           float64\n",
      "AMP MOTOR            float64\n",
      "% LOAD MTR           float64\n",
      "% DESB MTR           float64\n",
      "VOL-A CON D          float64\n",
      "AMP-A CON D          float64\n",
      "VOL-B CON D          float64\n",
      "AMP-B CON D          float64\n",
      "VOL-C CON D          float64\n",
      "AMP-C CON D          float64\n",
      "%THD VOL CON D       float64\n",
      "%THD AMP CON D       float64\n",
      "P.F. CON D           float64\n",
      "VOL-A CON Y          float64\n",
      "AMP-A CON Y          float64\n",
      "VOL-B CON Y          float64\n",
      "AMP-B CON Y          float64\n",
      "VOL-C CON Y          float64\n",
      "AMP-C CON Y          float64\n",
      "%THD VOL CON Y       float64\n",
      "%THD AMP CON Y       float64\n",
      "P.F. CON Y           float64\n",
      "PIP (psi)             object\n",
      "T Motor (F)           object\n",
      "BFPD                 float64\n",
      "KW-BBL               float64\n",
      "Unnamed: 52           object\n",
      "Q. OIL               float64\n",
      "Q. WATER             float64\n",
      "dtype: object\n"
     ]
    }
   ],
   "source": [
    "#creear una lista con las dt\n",
    "info_list = []\n",
    "for info in doc.values():\n",
    "    info_list.append(info)\n",
    "\n",
    "print(type(info_list))\n",
    "# print(info_list)\n",
    "\n",
    "# Crear un dataframe a partir de lista de dataframes\n",
    "dataframe1 = pd.concat(info_list, axis=0, ignore_index=True )\n",
    "print (type(dataframe1))\n",
    "print (dataframe1.dtypes)\n",
    "\n",
    "# print(dataframe1)"
   ]
  },
  {
   "cell_type": "code",
   "execution_count": 70,
   "metadata": {},
   "outputs": [
    {
     "name": "stdout",
     "output_type": "stream",
     "text": [
      "object\n",
      "0       2021-05-11 00:00:00\n",
      "1       2021-05-13 00:00:00\n",
      "2       2021-05-27 00:00:00\n",
      "3       2021-05-28 00:00:00\n",
      "4       2021-05-30 00:00:00\n",
      "               ...         \n",
      "4497    2014-08-14 00:00:00\n",
      "4498    2014-08-24 00:00:00\n",
      "4499    2014-09-07 00:00:00\n",
      "4500    2014-10-02 00:00:00\n",
      "4501    2014-11-02 00:00:00\n",
      "Name: FECHA, Length: 4502, dtype: object\n",
      "object\n"
     ]
    }
   ],
   "source": [
    "from datetime import datetime\n",
    "print (dataframe1['FECHA'].dtypes)\n",
    "\n",
    "for indice, fila in dataframe1.iterrows():\n",
    "    fecha_str = dataframe1['FECHA']  # Obtener la fecha en formato de cadena de la fila\n",
    "    if isinstance(fecha_str, str):\n",
    "        fecha_corregida = datetime.strptime(fecha_str, \"%d/%m/%y\")\n",
    "        dataframe1.at[indice, 'FECHA'] = fecha_corregida\n",
    "\n",
    "# print(dataframe1)\n",
    "print (dataframe1['FECHA'])\n",
    "print (dataframe1['FECHA'].dtypes)"
   ]
  },
  {
   "cell_type": "code",
   "execution_count": 28,
   "metadata": {},
   "outputs": [
    {
     "name": "stdout",
     "output_type": "stream",
     "text": [
      "{'uno': [1, 2, 3], 'dos': [4, 5, 6], 'tres': [7, 8, 9]}\n",
      "   uno  dos  tres\n",
      "0   10   14    17\n",
      "1   12   15    18\n",
      "2   13   16    19\n"
     ]
    }
   ],
   "source": [
    "dict_1 = {'uno': [1, 2, 3], 'dos':[4,5,6], 'tres':[7,8,9]}\n",
    "dict_2 = {'uno': [10, 12, 13], 'dos':[14,15,16], 'tres':[17,18,19]}\n",
    "dict_3 = {'uno': [110, 112, 113], 'dos':[114,115,116], 'tres':[117,118,119]}\n",
    "\n",
    "print(dict_1)\n",
    "\n",
    "dt2 = pd.DataFrame(dict_1) \n",
    "dt3 = pd.DataFrame(dict_2) \n",
    "dt4 = pd.DataFrame(dict_3) \n",
    "\n",
    "lista = [dt2, dt3, dt4]\n",
    "print(lista[1])\n",
    "# print(dt2)\n",
    "# print(dt3)\n",
    "# print(dt4)\n",
    "\n",
    "# print(type(dt3))"
   ]
  },
  {
   "cell_type": "code",
   "execution_count": 29,
   "metadata": {},
   "outputs": [
    {
     "name": "stdout",
     "output_type": "stream",
     "text": [
      "   uno  dos  tres\n",
      "0    1    4     7\n",
      "1    2    5     8\n",
      "2    3    6     9\n",
      "0   10   14    17\n",
      "1   12   15    18\n",
      "2   13   16    19\n",
      "0  110  114   117\n",
      "1  112  115   118\n",
      "2  113  116   119\n",
      "<class 'pandas.core.frame.DataFrame'>\n"
     ]
    }
   ],
   "source": [
    "dt5 = pd.concat(lista)\n",
    "print(dt5)\n",
    "print(type(dt5))"
   ]
  },
  {
   "cell_type": "code",
   "execution_count": 30,
   "metadata": {},
   "outputs": [
    {
     "name": "stdout",
     "output_type": "stream",
     "text": [
      "   uno  dos  tres  uno  dos  tres  uno  dos  tres\n",
      "0    1    4     7   10   14    17  110  114   117\n",
      "1    2    5     8   12   15    18  112  115   118\n",
      "2    3    6     9   13   16    19  113  116   119\n"
     ]
    }
   ],
   "source": [
    "dt6 = pd.concat(lista, axis=1)\n",
    "print(dt6)"
   ]
  },
  {
   "cell_type": "code",
   "execution_count": 68,
   "metadata": {},
   "outputs": [
    {
     "name": "stdout",
     "output_type": "stream",
     "text": [
      "<class 'dict'>\n"
     ]
    }
   ],
   "source": [
    "print(type(doc))"
   ]
  },
  {
   "cell_type": "code",
   "execution_count": 67,
   "metadata": {},
   "outputs": [
    {
     "ename": "AttributeError",
     "evalue": "'Timestamp' object has no attribute 'isdigit'",
     "output_type": "error",
     "traceback": [
      "\u001b[1;31m---------------------------------------------------------------------------\u001b[0m",
      "\u001b[1;31mAttributeError\u001b[0m                            Traceback (most recent call last)",
      "\u001b[1;32mc:\\Users\\User\\Desktop\\Programming\\Curves_pumps\\Jupyter_nb.ipynb Celda 13\u001b[0m line \u001b[0;36m9\n\u001b[0;32m      <a href='vscode-notebook-cell:/c%3A/Users/User/Desktop/Programming/Curves_pumps/Jupyter_nb.ipynb#X20sZmlsZQ%3D%3D?line=5'>6</a>\u001b[0m     \u001b[39mreturn\u001b[39;00m valor\n\u001b[0;32m      <a href='vscode-notebook-cell:/c%3A/Users/User/Desktop/Programming/Curves_pumps/Jupyter_nb.ipynb#X20sZmlsZQ%3D%3D?line=7'>8</a>\u001b[0m \u001b[39mfor\u001b[39;00m key, valor \u001b[39min\u001b[39;00m dataframe1\u001b[39m.\u001b[39mitems():\n\u001b[1;32m----> <a href='vscode-notebook-cell:/c%3A/Users/User/Desktop/Programming/Curves_pumps/Jupyter_nb.ipynb#X20sZmlsZQ%3D%3D?line=8'>9</a>\u001b[0m     dataframe1[key] \u001b[39m=\u001b[39m limpiar_valor(valor)\n\u001b[0;32m     <a href='vscode-notebook-cell:/c%3A/Users/User/Desktop/Programming/Curves_pumps/Jupyter_nb.ipynb#X20sZmlsZQ%3D%3D?line=10'>11</a>\u001b[0m \u001b[39mprint\u001b[39m(df)\n",
      "\u001b[1;32mc:\\Users\\User\\Desktop\\Programming\\Curves_pumps\\Jupyter_nb.ipynb Celda 13\u001b[0m line \u001b[0;36m5\n\u001b[0;32m      <a href='vscode-notebook-cell:/c%3A/Users/User/Desktop/Programming/Curves_pumps/Jupyter_nb.ipynb#X20sZmlsZQ%3D%3D?line=2'>3</a>\u001b[0m valor \u001b[39m=\u001b[39m valor\u001b[39m.\u001b[39mreplace(\u001b[39m'\u001b[39m\u001b[39m,\u001b[39m\u001b[39m'\u001b[39m, \u001b[39m'\u001b[39m\u001b[39m.\u001b[39m\u001b[39m'\u001b[39m)\n\u001b[0;32m      <a href='vscode-notebook-cell:/c%3A/Users/User/Desktop/Programming/Curves_pumps/Jupyter_nb.ipynb#X20sZmlsZQ%3D%3D?line=3'>4</a>\u001b[0m \u001b[39m# Eliminar letras\u001b[39;00m\n\u001b[1;32m----> <a href='vscode-notebook-cell:/c%3A/Users/User/Desktop/Programming/Curves_pumps/Jupyter_nb.ipynb#X20sZmlsZQ%3D%3D?line=4'>5</a>\u001b[0m valor \u001b[39m=\u001b[39m \u001b[39m'\u001b[39;49m\u001b[39m'\u001b[39;49m\u001b[39m.\u001b[39;49mjoin(caracter \u001b[39mfor\u001b[39;49;00m caracter \u001b[39min\u001b[39;49;00m valor \u001b[39mif\u001b[39;49;00m caracter\u001b[39m.\u001b[39;49misdigit() \u001b[39mor\u001b[39;49;00m caracter \u001b[39m==\u001b[39;49m \u001b[39m'\u001b[39;49m\u001b[39m.\u001b[39;49m\u001b[39m'\u001b[39;49m)\n\u001b[0;32m      <a href='vscode-notebook-cell:/c%3A/Users/User/Desktop/Programming/Curves_pumps/Jupyter_nb.ipynb#X20sZmlsZQ%3D%3D?line=5'>6</a>\u001b[0m \u001b[39mreturn\u001b[39;00m valor\n",
      "\u001b[1;32mc:\\Users\\User\\Desktop\\Programming\\Curves_pumps\\Jupyter_nb.ipynb Celda 13\u001b[0m line \u001b[0;36m5\n\u001b[0;32m      <a href='vscode-notebook-cell:/c%3A/Users/User/Desktop/Programming/Curves_pumps/Jupyter_nb.ipynb#X20sZmlsZQ%3D%3D?line=2'>3</a>\u001b[0m valor \u001b[39m=\u001b[39m valor\u001b[39m.\u001b[39mreplace(\u001b[39m'\u001b[39m\u001b[39m,\u001b[39m\u001b[39m'\u001b[39m, \u001b[39m'\u001b[39m\u001b[39m.\u001b[39m\u001b[39m'\u001b[39m)\n\u001b[0;32m      <a href='vscode-notebook-cell:/c%3A/Users/User/Desktop/Programming/Curves_pumps/Jupyter_nb.ipynb#X20sZmlsZQ%3D%3D?line=3'>4</a>\u001b[0m \u001b[39m# Eliminar letras\u001b[39;00m\n\u001b[1;32m----> <a href='vscode-notebook-cell:/c%3A/Users/User/Desktop/Programming/Curves_pumps/Jupyter_nb.ipynb#X20sZmlsZQ%3D%3D?line=4'>5</a>\u001b[0m valor \u001b[39m=\u001b[39m \u001b[39m'\u001b[39m\u001b[39m'\u001b[39m\u001b[39m.\u001b[39mjoin(caracter \u001b[39mfor\u001b[39;00m caracter \u001b[39min\u001b[39;00m valor \u001b[39mif\u001b[39;00m caracter\u001b[39m.\u001b[39;49misdigit() \u001b[39mor\u001b[39;00m caracter \u001b[39m==\u001b[39m \u001b[39m'\u001b[39m\u001b[39m.\u001b[39m\u001b[39m'\u001b[39m)\n\u001b[0;32m      <a href='vscode-notebook-cell:/c%3A/Users/User/Desktop/Programming/Curves_pumps/Jupyter_nb.ipynb#X20sZmlsZQ%3D%3D?line=5'>6</a>\u001b[0m \u001b[39mreturn\u001b[39;00m valor\n",
      "\u001b[1;31mAttributeError\u001b[0m: 'Timestamp' object has no attribute 'isdigit'"
     ]
    }
   ],
   "source": [
    "# def limpiar_valor(valor):\n",
    "#     # Reemplazar comas por puntos\n",
    "#     valor = valor.replace(',', '.')\n",
    "#     # Eliminar letras\n",
    "#     valor = ''.join(caracter for caracter in valor if caracter.isdigit() or caracter == '.')\n",
    "#     return valor\n",
    "\n",
    "# for key, valor in df.items():\n",
    "#     df[key] = limpiar_valor(valor)\n",
    "\n",
    "# print(df)"
   ]
  },
  {
   "cell_type": "code",
   "execution_count": null,
   "metadata": {},
   "outputs": [],
   "source": [
    "# arreglar objetos de las columnas\n",
    "#"
   ]
  }
 ],
 "metadata": {
  "kernelspec": {
   "display_name": "Python 3",
   "language": "python",
   "name": "python3"
  },
  "language_info": {
   "codemirror_mode": {
    "name": "ipython",
    "version": 3
   },
   "file_extension": ".py",
   "mimetype": "text/x-python",
   "name": "python",
   "nbconvert_exporter": "python",
   "pygments_lexer": "ipython3",
   "version": "3.11.3"
  },
  "orig_nbformat": 4
 },
 "nbformat": 4,
 "nbformat_minor": 2
}
