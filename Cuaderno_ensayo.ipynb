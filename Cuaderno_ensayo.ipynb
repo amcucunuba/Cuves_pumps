{
 "cells": [
  {
   "cell_type": "code",
   "execution_count": null,
   "metadata": {},
   "outputs": [],
   "source": [
    "df_essai = dataframe12.iloc[:20, 2:6]\n",
    "print (df_essai)\n",
    "# print(df_essai)\n",
    "print(df_essai['PF IN VSD'].dtypes)\n",
    "\n"
   ]
  },
  {
   "cell_type": "code",
   "execution_count": null,
   "metadata": {},
   "outputs": [],
   "source": [
    "# df_essai.dtypes\n",
    "for columna in df_essai.columns:\n",
    "    # el metodo astype() convierte los datos str, data type, Series or \n",
    "    # Mapping of column name -> data type, a un mismo tipo de datos \n",
    "   df_essai[columna] = df_essai[columna].astype(float)\n",
    "\n",
    "print(df_essai['% THD-VOL IN VSD'].dtypes)"
   ]
  },
  {
   "cell_type": "code",
   "execution_count": null,
   "metadata": {},
   "outputs": [],
   "source": [
    "for i in dataframe12['PF OUT VSD']:\n",
    "    print( i, type(i))\n",
    "\n",
    "\n",
    "# dataframe1['PF MTR'].mean()\n",
    "# type(dataframe1['PF MTR'])"
   ]
  },
  {
   "cell_type": "code",
   "execution_count": null,
   "metadata": {},
   "outputs": [],
   "source": [
    "# def encontrar_obj(objeto):\n",
    "#     # verificar si el valor es una cadena (str)\n",
    "#     if isinstance(objeto, object):\n",
    "#         # devuelvame el objeto\n",
    "#         return objeto\n",
    "\n",
    "# Itera a través de las columnas del DataFrame\n",
    "for columna in dataframe1.columns:\n",
    "    # Verifica si el valor es una cadena (str)\n",
    "    if dataframe1[columna].dtype == 'object':\n",
    "        # Realiza alguna operación en los valores de tipo cadena\n",
    "        # Por ejemplo, imprimir los valores encontrados\n",
    "        print(f\"Valores en '{columna}':\")\n",
    "        for valor in dataframe1[columna]:\n",
    "            print(valor)\n",
    "\n",
    "# # Itera a través de las columnas del DataFrame\n",
    "# for columna in df_essai.columns:\n",
    "#     # Verifica si la columna contiene valores de tipo cadena (str) o no es nula\n",
    "#     if df_essai[columna].dtype == 'object' and not df_essai[columna].isnull().all():\n",
    "#         # Realiza alguna operación en los valores de tipo cadena\n",
    "#         # Por ejemplo, imprimir los valores encontrados\n",
    "#         print(f\"Valores en '{columna}':\")\n",
    "#         for valor in df_essai[columna]:\n",
    "#             if not pd.isnull(valor):\n",
    "#                 print(valor)           "
   ]
  },
  {
   "cell_type": "code",
   "execution_count": null,
   "metadata": {},
   "outputs": [],
   "source": [
    "# def limpiar_valor(valor):\n",
    "#     # Verificar si el valor es una cadena (str)\n",
    "#     if isinstance(valor, str):\n",
    "#         # Reemplazar comas por puntos\n",
    "#         valor = valor.replace(',', '.')\n",
    "#         # Eliminar letras y otros caracteres no deseados\n",
    "#         valor = ''.join(caracter for caracter in valor if caracter.isdigit() or caracter == '.')\n",
    "#     return valor\n",
    "\n",
    "# for columna in df_essai.columns:\n",
    "#     df_essai[columna] = df_essai[columna].apply(limpiar_valor)\n",
    "\n",
    "# print(df_essai)\n",
    "# print(df_essai['% THD-VOL IN VSD'].dtypes)"
   ]
  },
  {
   "cell_type": "code",
   "execution_count": null,
   "metadata": {},
   "outputs": [],
   "source": [
    "from datetime import datetime\n",
    "import plotly_express as px\n",
    "print (df_essai['FECHA'].dtypes)\n",
    "#ajustar la fecha al formato datetime\n",
    "for indice, fila in df_essai.iterrows():\n",
    "    fecha_str = df_essai['FECHA']  # Obtener la fecha en formato de cadena de la fila\n",
    "    if isinstance(fecha_str, str): # evaluar si la variable fecha es un str\n",
    "        fecha_corregida = datetime.strptime(fecha_str, \"%d/%m/%y\")\n",
    "        df_essai.at[indice, 'FECHA'] = fecha_corregida #con at se accede al valor único.\n",
    "\n",
    "\n",
    "\n",
    "# print(dataframe1)\n",
    "print (df_essai['FECHA'])\n",
    "print (df_essai['FECHA'].dtypes)"
   ]
  },
  {
   "cell_type": "code",
   "execution_count": null,
   "metadata": {},
   "outputs": [],
   "source": [
    "# imprimir grafica del dataframe\n",
    "import plotly_express as px\n",
    "\n",
    "fig = px.line(df_essai, x='FECHA', y= '% THD-VOL IN VSD', color= 'WELL')\n",
    "\n",
    "fig.show()"
   ]
  },
  {
   "cell_type": "code",
   "execution_count": null,
   "metadata": {},
   "outputs": [],
   "source": [
    "#Ajustar fecha al formato datetime\n",
    "# lista de fecha\n",
    "fecha_str = ['2022-10-25', '2010º-09-11', '2021-05-13']\n",
    "#print(type(fecha_str[1]))\n",
    "for fecha in fecha_str:\n",
    "    try:\n",
    "        fecha_corregida = datetime.strptime(fecha, \"%Y-%m-%d\")\n",
    "        print(fecha_corregida)\n",
    "    except ValueError:\n",
    "        print(f\"La fecha '{fecha}' no coincide con el formato esperado (YYYY-MM-DD).\")\n",
    "    \n",
    "#print(type(fecha_str))\n"
   ]
  },
  {
   "cell_type": "code",
   "execution_count": null,
   "metadata": {},
   "outputs": [],
   "source": [
    "import pandas as pd\n",
    "\n",
    "dict_1 = {'uno': [1, 2, 3], 'dos':[4,5,6], 'tres':[7,8,9]}\n",
    "dict_2 = {'uno': [10, 12, 13], 'dos':[14,15,16], 'tres':[17,18,19]}\n",
    "dict_3 = {'uno': [110, 112, 113], 'dos':[114,115,116], 'tres':[117,118,119]}\n",
    "\n",
    "print(dict_1)\n",
    "\n",
    "dt2 = pd.DataFrame(dict_1) \n",
    "dt3 = pd.DataFrame(dict_2) \n",
    "dt4 = pd.DataFrame(dict_3) \n",
    "\n",
    "lista = [dt2, dt3, dt4]\n",
    "print(lista[1])\n",
    "# print(dt2)\n",
    "# print(dt3)\n",
    "# print(dt4)\n",
    "\n",
    "# print(type(dt3))"
   ]
  },
  {
   "cell_type": "code",
   "execution_count": null,
   "metadata": {},
   "outputs": [],
   "source": [
    "dt5 = pd.concat(lista)\n",
    "print(dt5)\n",
    "print(type(dt5))"
   ]
  },
  {
   "cell_type": "code",
   "execution_count": null,
   "metadata": {},
   "outputs": [],
   "source": [
    "import pandas as pd\n",
    "from datetime import datetime\n",
    "from openpyxl import load_workbook\n",
    "\n",
    "# # Ruta y el nombre del archivo .xlsm\n",
    "# archivo_xlsm = ('PREDIC_SET.xlsm')\n",
    "\n",
    "# # # Cargar el archivo .xlsm\n",
    "# workbook = load_workbook(archivo_xlsm, keep_vba=False)  # Establece keep_vba en False para eliminar las macros\n",
    "\n",
    "# # # Guardar el archivo como .xlsx\n",
    "# archivo_xlsx = 'archivo.xlsx'\n",
    "# workbook.save(archivo_xlsx)\n",
    "\n",
    "archivo_excel = 'C:\\\\Users\\\\User\\\\Desktop\\\\Programming\\\\Curves_pumps\\\\archivo.xlsx'\n",
    "documento_base = pd.read_excel(archivo_excel, sheet_name= None)\n",
    "\n",
    "## definir las hojas a eliminar\n",
    "del documento_base['PREDICT'], documento_base['GRAFICAS Kwh-Bbl'], documento_base['BACKLOG 2022'], documento_base['PROTECCIONES MURPHY'], documento_base['Medida Fondo'], documento_base['VERSION SOFTWARE'], documento_base['PLAN DE ACCION EVACUADAS'], documento_base['Sheet2']\n",
    "\n",
    "columnas = ['FECHA', 'FRECUENCIA', '% THD-VOL IN VSD', '% THD-AMP IN VSD',\n",
    "       'PF IN VSD', '% THD-VOL OUT VSD', '% THD-AMP OUT VSD', 'PF OUT VSD',\n",
    "       'VOL MTR A', 'VOL MTR B', 'VOL MTR C', 'VOL MTR A-Tierra',\n",
    "       'VOL MTR B-Tierra', 'VOL MTR C-Tierra', '% THD-AMP MTR', 'PF MTR',\n",
    "       'MAX VOL IN VSD', 'MAX AMP IN VSD', 'MAX VOL OUT VSD', 'RED KVA',\n",
    "       '%RED KVA', 'RED KW', 'MAX AMP OUT VSD', '% LOAD VSD', 'KVA VSD',\n",
    "       'KVA SUT', '% LOAD SUT', 'AMP MOTOR', '% LOAD MTR', '% DESB MTR',\n",
    "       'VOL-A CON D', 'AMP-A CON D', 'VOL-B CON D', 'AMP-B CON D',\n",
    "       'VOL-C CON D', 'AMP-C CON D', '%THD VOL CON D', '%THD AMP CON D',\n",
    "       'P.F. CON D', 'VOL-A CON Y', 'AMP-A CON Y', 'VOL-B CON Y',\n",
    "       'AMP-B CON Y', 'VOL-C CON Y', 'AMP-C CON Y', '%THD VOL CON Y',\n",
    "       '%THD AMP CON Y', 'P.F. CON Y', 'PIP (psi)', 'T Motor (F)', 'BFPD',\n",
    "       'KW-BBL']\n",
    "\n",
    "for key, hoja in documento_base.items():\n",
    "    if (col in hoja.columns for col in columnas):\n",
    "        columnas_a_eliminar = [col for col in hoja.columns if col not in columnas]\n",
    "        print (columnas_a_eliminar)\n",
    "        hoja.drop(columns=columnas_a_eliminar, inplace=True)\n",
    "\n",
    "a_eliminar = ['Unnamed: 50', 'Unnamed: 51', 'Unnamed: 52',\n",
    "            'FECHA.1', 'FRECUENCIA.1', 'BWPD', 'DIFERENCIA BOPD',\n",
    "            'DIFERENCIA BWPD', 'BOPD', 'BFPD.1','Q. OIL','BFPD',\n",
    "            'DIFERENCIA BFPD', '%BSW', '°API', 'NETOS', 'Q. WATER']\n",
    "for key, hoja in documento_base.items():\n",
    "    columnas_a_eliminar = [col for col in a_eliminar if col in hoja.columns]\n",
    "    hoja.drop(columns=columnas_a_eliminar, inplace=True)\n",
    "\n",
    "print(documento_base['CNG-05'])\n"
   ]
  },
  {
   "cell_type": "code",
   "execution_count": null,
   "metadata": {},
   "outputs": [],
   "source": [
    "for key, hoja in documento_base.items():\n",
    "    if key == 'CNG-05':\n",
    "        hoja.drop([1], inplace=True)\n",
    "    hoja.drop([0], inplace= True) #elimina la primera fila de datos\n",
    "    hoja.insert(0, 'WELL', value= key)#insertar la columna con el nombre de cada pozo\n",
    "    hoja.bfill(inplace=True) #rellenar los datos vacios con el numero anterior.\n",
    "\n",
    "print(documento_base['CNG-05'])"
   ]
  },
  {
   "cell_type": "code",
   "execution_count": null,
   "metadata": {},
   "outputs": [],
   "source": [
    "\n",
    "info_list = []\n",
    "for info in documento_base.values():\n",
    "    info_list.append(info)\n",
    "\n",
    "print(type(info_list))\n",
    "\n",
    "# Crear un dataframe a partir de lista de dataframes\n",
    "dataframe1 = pd.concat(info_list, axis=0, ignore_index=True )\n",
    "\n",
    "print (dataframe1.iloc[800:900, 0:6])"
   ]
  },
  {
   "cell_type": "code",
   "execution_count": null,
   "metadata": {},
   "outputs": [],
   "source": [
    "dataframe1= dataframe1.dropna(thresh=2)\n",
    "print (dataframe1.iloc[800:900, 0:6])"
   ]
  },
  {
   "cell_type": "code",
   "execution_count": null,
   "metadata": {},
   "outputs": [],
   "source": [
    "valor_a_eliminar = 'DESPUES DE INGRESAR LOS PRIMEROS DATOS BORRAR LAS CELDAS EN AMARILLO CON DELETE CELLS Y UP'\n",
    "dataframe1 = dataframe1[dataframe1['FRECUENCIA'] != valor_a_eliminar]\n",
    "\n",
    "\n",
    "valores_a_reemplazar = ['nd','NO', '1211-9', 'fds', '-', 'FDS', 'cñg8d', 'ND', ' - ', '0.86|', \n",
    "                        'SIN DATOS', 'sin datos', 'o.45', \"299'\", 'No lectura', 'No medido', \n",
    "                        'No registra', ' ', '                                       ',]\n",
    "\n",
    "for columna in dataframe1.columns:\n",
    "    if columna == 'WELL' or columna == 'FECHA':\n",
    "        continue  # Saltar a la siguiente columna si es de tipo 'datetime' o 'str'\n",
    "    \n",
    "    for indice, valor in dataframe1[columna].items():\n",
    "        if isinstance(valor, str):\n",
    "            # Reemplazar comas por puntos\n",
    "            valor = valor.replace(',', '.')\n",
    "            # Reemplazar \"nd\" por NaN\n",
    "        if valor in valores_a_reemplazar:\n",
    "            valor = 'NaN'\n",
    "        dataframe1.at[indice, columna] = float(valor)\n",
    "        \n",
    "    if dataframe1[columna].dtype == 'object':\n",
    "        dataframe1[columna] = dataframe1[columna].astype(float)\n",
    "\n",
    "dataframe1.set_index('FECHA')\n",
    "dataframe1.to_csv('curves_pumps_final.csv')\n",
    "print(type(dataframe1))\n",
    "\n",
    "# print(dataframe1.iloc[700:800, 0:6])"
   ]
  },
  {
   "cell_type": "code",
   "execution_count": null,
   "metadata": {},
   "outputs": [],
   "source": [
    "(dataframe1['FECHA'])"
   ]
  },
  {
   "cell_type": "code",
   "execution_count": null,
   "metadata": {},
   "outputs": [],
   "source": [
    "for indice, fila in dataframe1.iterrows():\n",
    "    fecha_obj = dataframe1['FECHA']  # Obtener la fecha en formato de cadena de la fila\n",
    "    if isinstance(fecha_str, str): # evaluar si la variable fecha es un str\n",
    "        fecha_corregida = datetime.strptime(fecha_str, \"%d/%m/%y\")\n",
    "        dataframe1.at[indice, 'FECHA'] = fecha_corregida #con at se accede al valor único.\n",
    "\n",
    "print(dataframe1['FECHA'].dtype)"
   ]
  },
  {
   "cell_type": "code",
   "execution_count": null,
   "metadata": {},
   "outputs": [],
   "source": [
    "round(dataframe1['% LOAD MTR'])"
   ]
  },
  {
   "cell_type": "code",
   "execution_count": null,
   "metadata": {},
   "outputs": [],
   "source": [
    "import pandas as pd\n",
    "from datetime import datetime\n",
    "from openpyxl import load_workbook\n",
    "\n",
    "data_df = pd.read_csv('curves_pumps_final.csv')\n"
   ]
  },
  {
   "cell_type": "code",
   "execution_count": null,
   "metadata": {},
   "outputs": [],
   "source": [
    "print(data_df['% LOAD MTR'])\n",
    "data_df= data_df.round({'FRECUENCIA': 1, \n",
    "                   'PF OUT VSD': 2,\n",
    "                   'PF OUT VSD': 2, \n",
    "                   'VOL MTR A': 0, \n",
    "                   'VOL MTR B': 0, \n",
    "                   'VOL MTR C': 0,\n",
    "                   'RED KVA': 1,\n",
    "                   'RED KW': 1,\n",
    "                   'KVA VSD': 1,\n",
    "                   'KVA SUT': 1,\n",
    "                   'AMP MOTOR': 0,\n",
    "                   '% LOAD MTR': 1, \n",
    "                   'T Motor (F)': 0}, )\n",
    "print(data_df['% LOAD MTR'])"
   ]
  },
  {
   "cell_type": "code",
   "execution_count": null,
   "metadata": {},
   "outputs": [],
   "source": [
    "print(data_df.columns)"
   ]
  },
  {
   "cell_type": "code",
   "execution_count": null,
   "metadata": {},
   "outputs": [],
   "source": [
    "from datetime import datetime\n",
    "fechatrd04 = '2021-05-11 00:00:00'\n",
    "nuevafecha= datetime.strptime(fechatrd04, '%Y-%m-%d %H:%M:%S')\n",
    "print(nuevafecha)"
   ]
  },
  {
   "cell_type": "code",
   "execution_count": null,
   "metadata": {},
   "outputs": [],
   "source": [
    "datetime_str = '29/09/22'\n",
    "\n",
    "datetime_object = datetime.strptime(datetime_str, '%d/%m/%y')\n",
    "print(type(datetime_object))\n",
    "print(datetime_object)"
   ]
  },
  {
   "cell_type": "code",
   "execution_count": 158,
   "metadata": {},
   "outputs": [],
   "source": [
    "import pandas as pd\n",
    "import datetime\n",
    "df = pd.read_csv('datos_predictivos_esp.csv')"
   ]
  },
  {
   "cell_type": "code",
   "execution_count": null,
   "metadata": {},
   "outputs": [],
   "source": [
    "# df.set_index('FECHA', inplace=True)\n",
    "# fechas_incorrectas = ['nan']\n",
    "print(df['FECHA'])\n",
    "df = df.dropna(subset=['FECHA'])\n",
    "\n",
    "print(df['FECHA'])"
   ]
  },
  {
   "cell_type": "code",
   "execution_count": null,
   "metadata": {},
   "outputs": [],
   "source": [
    "for i in df['FECHA']:\n",
    "    print( i, type(i))"
   ]
  },
  {
   "cell_type": "code",
   "execution_count": null,
   "metadata": {},
   "outputs": [],
   "source": [
    "from datetime import datetime\n",
    "\n",
    "datetime_object = datetime.strptime(datetime_str, '%d/%m/%y')"
   ]
  },
  {
   "cell_type": "code",
   "execution_count": null,
   "metadata": {},
   "outputs": [
    {
     "name": "stdout",
     "output_type": "stream",
     "text": [
      "object\n"
     ]
    }
   ],
   "source": [
    "df['FECHA'] = df['FECHA'].apply(lambda x: datetime.datetime.strptime(x, \"%Y-%m-%d\").date())\n",
    "print(df['FECHA'].dtypes)"
   ]
  },
  {
   "cell_type": "code",
   "execution_count": null,
   "metadata": {},
   "outputs": [],
   "source": [
    "for i in df['FECHA']:\n",
    "    if type(i) == datetime.date:\n",
    "        print (i)"
   ]
  },
  {
   "cell_type": "code",
   "execution_count": null,
   "metadata": {},
   "outputs": [],
   "source": [
    "# for i in df['FECHA']:\n",
    "#     print (f'esto es i', i)\n",
    "#     if isinstance(i, str):\n",
    "#        aa = datetime.datetime.strptime(i, '%Y-%m-%d')     \n",
    "#     print(type(i))"
   ]
  },
  {
   "cell_type": "code",
   "execution_count": null,
   "metadata": {},
   "outputs": [],
   "source": [
    "# df.set_index('FECHA', inplace=True)\n",
    "# print(df.index)\n",
    "# print(df.head(20))\n",
    "# print (df.iloc[1220:1230, 1:3])\n",
    "\n",
    "# for mal_fecha in df['FECHA']:\n",
    "#     if isinstance(mal_fecha, object):\n",
    "#         print(mal_fecha)\n",
    "\n",
    "# print (df['FECHA'].dtypes)"
   ]
  },
  {
   "cell_type": "code",
   "execution_count": null,
   "metadata": {},
   "outputs": [],
   "source": [
    "for indices_fecha, columnas in df.iterrows():\n",
    "    \n",
    "    if isinstance(indices_fecha, str):\n",
    "        # Si es una cadena de texto, convierte la fecha\n",
    "        df.loc[i, indices_fecha] = datetime.datetime.strptime(fecha, '%Y-%m-%d %H:%M:%S')\n",
    "    elif i > 0:\n",
    "        # Si no es una cadena de texto y no es la primera fila, copia la fecha de la fila anterior\n",
    "        df.loc[i, indices_fecha] = df.loc[i -1, indices_fecha]"
   ]
  },
  {
   "cell_type": "code",
   "execution_count": null,
   "metadata": {},
   "outputs": [],
   "source": [
    "data = {'A': [1, 2, 3], 'B': [4, 5, 6]}\n",
    "df = pd.DataFrame(data)\n",
    "\n",
    "# Iterar a través de las filas utilizando itertuples\n",
    "for index, row in df.iterrows():\n",
    "    print(\"Índice:\", index)\n",
    "    print(\"Fila A:\", row['A'])\n",
    "    print(\"Fila B:\", row['B'])\n",
    "    print()"
   ]
  }
 ],
 "metadata": {
  "kernelspec": {
   "display_name": "Python 3",
   "language": "python",
   "name": "python3"
  },
  "language_info": {
   "codemirror_mode": {
    "name": "ipython",
    "version": 3
   },
   "file_extension": ".py",
   "mimetype": "text/x-python",
   "name": "python",
   "nbconvert_exporter": "python",
   "pygments_lexer": "ipython3",
   "version": "3.11.3"
  },
  "orig_nbformat": 4
 },
 "nbformat": 4,
 "nbformat_minor": 2
}
