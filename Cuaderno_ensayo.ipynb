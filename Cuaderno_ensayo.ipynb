{
 "cells": [
  {
   "cell_type": "code",
   "execution_count": null,
   "metadata": {},
   "outputs": [],
   "source": [
    "df_essai = dataframe12.iloc[:20, 2:6]\n",
    "print (df_essai)\n",
    "# print(df_essai)\n",
    "print(df_essai['PF IN VSD'].dtypes)\n",
    "\n"
   ]
  },
  {
   "cell_type": "code",
   "execution_count": null,
   "metadata": {},
   "outputs": [],
   "source": [
    "# df_essai.dtypes\n",
    "for columna in df_essai.columns:\n",
    "    # el metodo astype() convierte los datos str, data type, Series or \n",
    "    # Mapping of column name -> data type, a un mismo tipo de datos \n",
    "   df_essai[columna] = df_essai[columna].astype(float)\n",
    "\n",
    "print(df_essai['% THD-VOL IN VSD'].dtypes)"
   ]
  },
  {
   "cell_type": "code",
   "execution_count": null,
   "metadata": {},
   "outputs": [],
   "source": [
    "for i in dataframe12['PF OUT VSD']:\n",
    "    print( i, type(i))\n",
    "\n",
    "\n",
    "# dataframe1['PF MTR'].mean()\n",
    "# type(dataframe1['PF MTR'])"
   ]
  },
  {
   "cell_type": "code",
   "execution_count": null,
   "metadata": {},
   "outputs": [],
   "source": [
    "# def encontrar_obj(objeto):\n",
    "#     # verificar si el valor es una cadena (str)\n",
    "#     if isinstance(objeto, object):\n",
    "#         # devuelvame el objeto\n",
    "#         return objeto\n",
    "\n",
    "# Itera a través de las columnas del DataFrame\n",
    "for columna in dataframe1.columns:\n",
    "    # Verifica si el valor es una cadena (str)\n",
    "    if dataframe1[columna].dtype == 'object':\n",
    "        # Realiza alguna operación en los valores de tipo cadena\n",
    "        # Por ejemplo, imprimir los valores encontrados\n",
    "        print(f\"Valores en '{columna}':\")\n",
    "        for valor in dataframe1[columna]:\n",
    "            print(valor)\n",
    "\n",
    "# # Itera a través de las columnas del DataFrame\n",
    "# for columna in df_essai.columns:\n",
    "#     # Verifica si la columna contiene valores de tipo cadena (str) o no es nula\n",
    "#     if df_essai[columna].dtype == 'object' and not df_essai[columna].isnull().all():\n",
    "#         # Realiza alguna operación en los valores de tipo cadena\n",
    "#         # Por ejemplo, imprimir los valores encontrados\n",
    "#         print(f\"Valores en '{columna}':\")\n",
    "#         for valor in df_essai[columna]:\n",
    "#             if not pd.isnull(valor):\n",
    "#                 print(valor)           "
   ]
  },
  {
   "cell_type": "code",
   "execution_count": null,
   "metadata": {},
   "outputs": [],
   "source": [
    "# def limpiar_valor(valor):\n",
    "#     # Verificar si el valor es una cadena (str)\n",
    "#     if isinstance(valor, str):\n",
    "#         # Reemplazar comas por puntos\n",
    "#         valor = valor.replace(',', '.')\n",
    "#         # Eliminar letras y otros caracteres no deseados\n",
    "#         valor = ''.join(caracter for caracter in valor if caracter.isdigit() or caracter == '.')\n",
    "#     return valor\n",
    "\n",
    "# for columna in df_essai.columns:\n",
    "#     df_essai[columna] = df_essai[columna].apply(limpiar_valor)\n",
    "\n",
    "# print(df_essai)\n",
    "# print(df_essai['% THD-VOL IN VSD'].dtypes)"
   ]
  },
  {
   "cell_type": "code",
   "execution_count": null,
   "metadata": {},
   "outputs": [],
   "source": [
    "from datetime import datetime\n",
    "import plotly_express as px\n",
    "print (df_essai['FECHA'].dtypes)\n",
    "#ajustar la fecha al formato datetime\n",
    "for indice, fila in df_essai.iterrows():\n",
    "    fecha_str = df_essai['FECHA']  # Obtener la fecha en formato de cadena de la fila\n",
    "    if isinstance(fecha_str, str): # evaluar si la variable fecha es un str\n",
    "        fecha_corregida = datetime.strptime(fecha_str, \"%d/%m/%y\")\n",
    "        df_essai.at[indice, 'FECHA'] = fecha_corregida #con at se accede al valor único.\n",
    "\n",
    "\n",
    "\n",
    "# print(dataframe1)\n",
    "print (df_essai['FECHA'])\n",
    "print (df_essai['FECHA'].dtypes)"
   ]
  },
  {
   "cell_type": "code",
   "execution_count": null,
   "metadata": {},
   "outputs": [],
   "source": [
    "# imprimir grafica del dataframe\n",
    "import plotly_express as px\n",
    "\n",
    "fig = px.line(df_essai, x='FECHA', y= '% THD-VOL IN VSD', color= 'WELL')\n",
    "\n",
    "fig.show()"
   ]
  },
  {
   "cell_type": "code",
   "execution_count": null,
   "metadata": {},
   "outputs": [],
   "source": [
    "#Ajustar fecha al formato datetime\n",
    "# lista de fecha\n",
    "fecha_str = ['2022-10-25', '2010º-09-11', '2021-05-13']\n",
    "#print(type(fecha_str[1]))\n",
    "for fecha in fecha_str:\n",
    "    try:\n",
    "        fecha_corregida = datetime.strptime(fecha, \"%Y-%m-%d\")\n",
    "        print(fecha_corregida)\n",
    "    except ValueError:\n",
    "        print(f\"La fecha '{fecha}' no coincide con el formato esperado (YYYY-MM-DD).\")\n",
    "    \n",
    "#print(type(fecha_str))\n"
   ]
  },
  {
   "cell_type": "code",
   "execution_count": null,
   "metadata": {},
   "outputs": [],
   "source": [
    "import pandas as pd\n",
    "\n",
    "dict_1 = {'uno': [1, 2, 3], 'dos':[4,5,6], 'tres':[7,8,9]}\n",
    "dict_2 = {'uno': [10, 12, 13], 'dos':[14,15,16], 'tres':[17,18,19]}\n",
    "dict_3 = {'uno': [110, 112, 113], 'dos':[114,115,116], 'tres':[117,118,119]}\n",
    "\n",
    "print(dict_1)\n",
    "\n",
    "dt2 = pd.DataFrame(dict_1) \n",
    "dt3 = pd.DataFrame(dict_2) \n",
    "dt4 = pd.DataFrame(dict_3) \n",
    "\n",
    "lista = [dt2, dt3, dt4]\n",
    "print(lista[1])\n",
    "# print(dt2)\n",
    "# print(dt3)\n",
    "# print(dt4)\n",
    "\n",
    "# print(type(dt3))"
   ]
  },
  {
   "cell_type": "code",
   "execution_count": null,
   "metadata": {},
   "outputs": [],
   "source": [
    "dt5 = pd.concat(lista)\n",
    "print(dt5)\n",
    "print(type(dt5))"
   ]
  },
  {
   "cell_type": "code",
   "execution_count": null,
   "metadata": {},
   "outputs": [],
   "source": [
    "import pandas as pd\n",
    "from datetime import datetime\n",
    "from openpyxl import load_workbook\n",
    "\n",
    "# # Ruta y el nombre del archivo .xlsm\n",
    "# archivo_xlsm = ('PREDIC_SET.xlsm')\n",
    "\n",
    "# # # Cargar el archivo .xlsm\n",
    "# workbook = load_workbook(archivo_xlsm, keep_vba=False)  # Establece keep_vba en False para eliminar las macros\n",
    "\n",
    "# # # Guardar el archivo como .xlsx\n",
    "# archivo_xlsx = 'archivo.xlsx'\n",
    "# workbook.save(archivo_xlsx)\n",
    "\n",
    "archivo_excel = 'C:\\\\Users\\\\User\\\\Desktop\\\\Programming\\\\Curves_pumps\\\\archivo.xlsx'\n",
    "documento_base = pd.read_excel(archivo_excel, sheet_name= None)\n",
    "\n",
    "## definir las hojas a eliminar\n",
    "del documento_base['PREDICT'], documento_base['GRAFICAS Kwh-Bbl'], documento_base['BACKLOG 2022'], documento_base['PROTECCIONES MURPHY'], documento_base['Medida Fondo'], documento_base['VERSION SOFTWARE'], documento_base['PLAN DE ACCION EVACUADAS'], documento_base['Sheet2']\n",
    "\n",
    "columnas = ['FECHA', 'FRECUENCIA', '% THD-VOL IN VSD', '% THD-AMP IN VSD',\n",
    "       'PF IN VSD', '% THD-VOL OUT VSD', '% THD-AMP OUT VSD', 'PF OUT VSD',\n",
    "       'VOL MTR A', 'VOL MTR B', 'VOL MTR C', 'VOL MTR A-Tierra',\n",
    "       'VOL MTR B-Tierra', 'VOL MTR C-Tierra', '% THD-AMP MTR', 'PF MTR',\n",
    "       'MAX VOL IN VSD', 'MAX AMP IN VSD', 'MAX VOL OUT VSD', 'RED KVA',\n",
    "       '%RED KVA', 'RED KW', 'MAX AMP OUT VSD', '% LOAD VSD', 'KVA VSD',\n",
    "       'KVA SUT', '% LOAD SUT', 'AMP MOTOR', '% LOAD MTR', '% DESB MTR',\n",
    "       'VOL-A CON D', 'AMP-A CON D', 'VOL-B CON D', 'AMP-B CON D',\n",
    "       'VOL-C CON D', 'AMP-C CON D', '%THD VOL CON D', '%THD AMP CON D',\n",
    "       'P.F. CON D', 'VOL-A CON Y', 'AMP-A CON Y', 'VOL-B CON Y',\n",
    "       'AMP-B CON Y', 'VOL-C CON Y', 'AMP-C CON Y', '%THD VOL CON Y',\n",
    "       '%THD AMP CON Y', 'P.F. CON Y', 'PIP (psi)', 'T Motor (F)', 'BFPD',\n",
    "       'KW-BBL']\n",
    "\n",
    "for key, hoja in documento_base.items():\n",
    "    if (col in hoja.columns for col in columnas):\n",
    "        columnas_a_eliminar = [col for col in hoja.columns if col not in columnas]\n",
    "        print (columnas_a_eliminar)\n",
    "        hoja.drop(columns=columnas_a_eliminar, inplace=True)\n",
    "\n",
    "a_eliminar = ['Unnamed: 50', 'Unnamed: 51', 'Unnamed: 52',\n",
    "            'FECHA.1', 'FRECUENCIA.1', 'BWPD', 'DIFERENCIA BOPD',\n",
    "            'DIFERENCIA BWPD', 'BOPD', 'BFPD.1','Q. OIL','BFPD',\n",
    "            'DIFERENCIA BFPD', '%BSW', '°API', 'NETOS', 'Q. WATER']\n",
    "for key, hoja in documento_base.items():\n",
    "    columnas_a_eliminar = [col for col in a_eliminar if col in hoja.columns]\n",
    "    hoja.drop(columns=columnas_a_eliminar, inplace=True)\n",
    "\n",
    "print(documento_base['CNG-05'])\n"
   ]
  },
  {
   "cell_type": "code",
   "execution_count": null,
   "metadata": {},
   "outputs": [],
   "source": [
    "for key, hoja in documento_base.items():\n",
    "    if key == 'CNG-05':\n",
    "        hoja.drop([1], inplace=True)\n",
    "    hoja.drop([0], inplace= True) #elimina la primera fila de datos\n",
    "    hoja.insert(0, 'WELL', value= key)#insertar la columna con el nombre de cada pozo\n",
    "    hoja.bfill(inplace=True) #rellenar los datos vacios con el numero anterior.\n",
    "\n",
    "print(documento_base['CNG-05'])"
   ]
  },
  {
   "cell_type": "code",
   "execution_count": null,
   "metadata": {},
   "outputs": [],
   "source": [
    "\n",
    "info_list = []\n",
    "for info in documento_base.values():\n",
    "    info_list.append(info)\n",
    "\n",
    "print(type(info_list))\n",
    "\n",
    "# Crear un dataframe a partir de lista de dataframes\n",
    "dataframe1 = pd.concat(info_list, axis=0, ignore_index=True )\n",
    "\n",
    "print (dataframe1.iloc[800:900, 0:6])"
   ]
  },
  {
   "cell_type": "code",
   "execution_count": null,
   "metadata": {},
   "outputs": [],
   "source": [
    "dataframe1= dataframe1.dropna(thresh=2)\n",
    "print (dataframe1.iloc[800:900, 0:6])"
   ]
  },
  {
   "cell_type": "code",
   "execution_count": null,
   "metadata": {},
   "outputs": [],
   "source": [
    "valor_a_eliminar = 'DESPUES DE INGRESAR LOS PRIMEROS DATOS BORRAR LAS CELDAS EN AMARILLO CON DELETE CELLS Y UP'\n",
    "dataframe1 = dataframe1[dataframe1['FRECUENCIA'] != valor_a_eliminar]\n",
    "\n",
    "\n",
    "valores_a_reemplazar = ['nd','NO', '1211-9', 'fds', '-', 'FDS', 'cñg8d', 'ND', ' - ', '0.86|', \n",
    "                        'SIN DATOS', 'sin datos', 'o.45', \"299'\", 'No lectura', 'No medido', \n",
    "                        'No registra', ' ', '                                       ',]\n",
    "\n",
    "for columna in dataframe1.columns:\n",
    "    if columna == 'WELL' or columna == 'FECHA':\n",
    "        continue  # Saltar a la siguiente columna si es de tipo 'datetime' o 'str'\n",
    "    \n",
    "    for indice, valor in dataframe1[columna].items():\n",
    "        if isinstance(valor, str):\n",
    "            # Reemplazar comas por puntos\n",
    "            valor = valor.replace(',', '.')\n",
    "            # Reemplazar \"nd\" por NaN\n",
    "        if valor in valores_a_reemplazar:\n",
    "            valor = 'NaN'\n",
    "        dataframe1.at[indice, columna] = float(valor)\n",
    "        \n",
    "    if dataframe1[columna].dtype == 'object':\n",
    "        dataframe1[columna] = dataframe1[columna].astype(float)\n",
    "\n",
    "dataframe1.set_index('FECHA')\n",
    "dataframe1.to_csv('curves_pumps_final.csv')\n",
    "print(type(dataframe1))\n",
    "\n",
    "# print(dataframe1.iloc[700:800, 0:6])"
   ]
  },
  {
   "cell_type": "code",
   "execution_count": null,
   "metadata": {},
   "outputs": [],
   "source": [
    "(dataframe1['FECHA'].)"
   ]
  },
  {
   "cell_type": "code",
   "execution_count": null,
   "metadata": {},
   "outputs": [],
   "source": [
    "for indice, fila in dataframe1.iterrows():\n",
    "    fecha_obj = dataframe1['FECHA']  # Obtener la fecha en formato de cadena de la fila\n",
    "    if isinstance(fecha_str, str): # evaluar si la variable fecha es un str\n",
    "        fecha_corregida = datetime.strptime(fecha_str, \"%d/%m/%y\")\n",
    "        dataframe1.at[indice, 'FECHA'] = fecha_corregida #con at se accede al valor único.\n",
    "\n",
    "print(dataframe1['FECHA'].dtype)"
   ]
  },
  {
   "cell_type": "code",
   "execution_count": null,
   "metadata": {},
   "outputs": [],
   "source": [
    "round(dataframe1['% LOAD MTR'])"
   ]
  },
  {
   "cell_type": "code",
   "execution_count": 7,
   "metadata": {},
   "outputs": [],
   "source": [
    "import pandas as pd\n",
    "from datetime import datetime\n",
    "from openpyxl import load_workbook\n",
    "\n",
    "data_df = pd.read_csv('curves_pumps_final.csv')\n"
   ]
  },
  {
   "cell_type": "code",
   "execution_count": null,
   "metadata": {},
   "outputs": [],
   "source": [
    "print(data_df['% LOAD MTR'])\n",
    "data_df= data_df.round({'FRECUENCIA': 1, \n",
    "                   'PF OUT VSD': 2,\n",
    "                   'PF OUT VSD': 2, \n",
    "                   'VOL MTR A': 0, \n",
    "                   'VOL MTR B': 0, \n",
    "                   'VOL MTR C': 0,\n",
    "                   'RED KVA': 1,\n",
    "                   'RED KW': 1,\n",
    "                   'KVA VSD': 1,\n",
    "                   'KVA SUT': 1,\n",
    "                   'AMP MOTOR': 0,\n",
    "                   '% LOAD MTR': 1, \n",
    "                   'T Motor (F)': 0}, )\n",
    "print(data_df['% LOAD MTR'])"
   ]
  },
  {
   "cell_type": "code",
   "execution_count": 11,
   "metadata": {},
   "outputs": [
    {
     "name": "stdout",
     "output_type": "stream",
     "text": [
      "Index(['Unnamed: 0', 'WELL', 'FECHA', 'FRECUENCIA', '% THD-VOL IN VSD',\n",
      "       '% THD-AMP IN VSD', 'PF IN VSD', '% THD-VOL OUT VSD',\n",
      "       '% THD-AMP OUT VSD', 'PF OUT VSD', 'VOL MTR A', 'VOL MTR B',\n",
      "       'VOL MTR C', 'VOL MTR A-Tierra', 'VOL MTR B-Tierra', 'VOL MTR C-Tierra',\n",
      "       '% THD-AMP MTR', 'PF MTR', 'MAX VOL IN VSD', 'MAX AMP IN VSD',\n",
      "       'MAX VOL OUT VSD', 'RED KVA', '%RED KVA', 'RED KW', 'MAX AMP OUT VSD',\n",
      "       '% LOAD VSD', 'KVA VSD', 'KVA SUT', '% LOAD SUT', 'AMP MOTOR',\n",
      "       '% LOAD MTR', '% DESB MTR', 'VOL-A CON D', 'AMP-A CON D', 'VOL-B CON D',\n",
      "       'AMP-B CON D', 'VOL-C CON D', 'AMP-C CON D', '%THD VOL CON D',\n",
      "       '%THD AMP CON D', 'P.F. CON D', 'VOL-A CON Y', 'AMP-A CON Y',\n",
      "       'VOL-B CON Y', 'AMP-B CON Y', 'VOL-C CON Y', 'AMP-C CON Y',\n",
      "       '%THD VOL CON Y', '%THD AMP CON Y', 'P.F. CON Y', 'PIP (psi)',\n",
      "       'T Motor (F)', 'KW-BBL'],\n",
      "      dtype='object')\n"
     ]
    }
   ],
   "source": [
    "print(data_df.columns)"
   ]
  },
  {
   "cell_type": "code",
   "execution_count": null,
   "metadata": {},
   "outputs": [],
   "source": []
  },
  {
   "cell_type": "code",
   "execution_count": 14,
   "metadata": {},
   "outputs": [
    {
     "name": "stdout",
     "output_type": "stream",
     "text": [
      "2021-05-11 00:00:00\n"
     ]
    }
   ],
   "source": [
    "from datetime import datetime\n",
    "fechatrd04 = '2021-05-11 00:00:00'\n",
    "nuevafecha= datetime.strptime(fechatrd04, '%Y-%m-%d %H:%M:%S')\n",
    "print(nuevafecha)"
   ]
  },
  {
   "cell_type": "code",
   "execution_count": 7,
   "metadata": {},
   "outputs": [
    {
     "name": "stdout",
     "output_type": "stream",
     "text": [
      "<class 'datetime.datetime'>\n",
      "2022-09-29 00:00:00\n"
     ]
    }
   ],
   "source": [
    "datetime_str = '29/09/22'\n",
    "\n",
    "datetime_object = datetime.strptime(datetime_str, '%d/%m/%y')\n",
    "print(type(datetime_object))\n",
    "print(datetime_object)"
   ]
  },
  {
   "cell_type": "code",
   "execution_count": 57,
   "metadata": {},
   "outputs": [],
   "source": [
    "import pandas as pd\n",
    "df = pd.read_csv('datos_predictivos_esp.csv')"
   ]
  },
  {
   "cell_type": "code",
   "execution_count": null,
   "metadata": {},
   "outputs": [],
   "source": [
    "print(df['FECHA'].dtypes)\n",
    "# print(df['FECHA'])\n",
    "for i in df['FECHA']:\n",
    "    # print (f'esto es i', i)\n",
    "    if isinstance(i, str):\n",
    "       aa = datetime.strptime(i, '%Y-%m-%d %H:%M:%S')"
   ]
  },
  {
   "cell_type": "code",
   "execution_count": 64,
   "metadata": {},
   "outputs": [
    {
     "ename": "ValueError",
     "evalue": "time data \"19-11-22\" doesn't match format \"%Y-%m-%d %H:%M:%S\", at position 1953. You might want to try:\n    - passing `format` if your strings have a consistent format;\n    - passing `format='ISO8601'` if your strings are all ISO8601 but not necessarily in exactly the same format;\n    - passing `format='mixed'`, and the format will be inferred for each element individually. You might want to use `dayfirst` alongside this.",
     "output_type": "error",
     "traceback": [
      "\u001b[1;31m---------------------------------------------------------------------------\u001b[0m",
      "\u001b[1;31mValueError\u001b[0m                                Traceback (most recent call last)",
      "\u001b[1;32mc:\\Users\\User\\Desktop\\Programming\\Curves_pumps\\Cuaderno_ensayo.ipynb Celda 27\u001b[0m line \u001b[0;36m1\n\u001b[1;32m----> <a href='vscode-notebook-cell:/c%3A/Users/User/Desktop/Programming/Curves_pumps/Cuaderno_ensayo.ipynb#X41sZmlsZQ%3D%3D?line=0'>1</a>\u001b[0m df[\u001b[39m'\u001b[39m\u001b[39mFECHA\u001b[39m\u001b[39m'\u001b[39m]\u001b[39m=\u001b[39m pd\u001b[39m.\u001b[39;49mto_datetime(df[\u001b[39m'\u001b[39;49m\u001b[39mFECHA\u001b[39;49m\u001b[39m'\u001b[39;49m])\n",
      "File \u001b[1;32mc:\\Users\\User\\AppData\\Local\\Programs\\Python\\Python311\\Lib\\site-packages\\pandas\\core\\tools\\datetimes.py:1050\u001b[0m, in \u001b[0;36mto_datetime\u001b[1;34m(arg, errors, dayfirst, yearfirst, utc, format, exact, unit, infer_datetime_format, origin, cache)\u001b[0m\n\u001b[0;32m   1048\u001b[0m         result \u001b[39m=\u001b[39m arg\u001b[39m.\u001b[39mmap(cache_array)\n\u001b[0;32m   1049\u001b[0m     \u001b[39melse\u001b[39;00m:\n\u001b[1;32m-> 1050\u001b[0m         values \u001b[39m=\u001b[39m convert_listlike(arg\u001b[39m.\u001b[39;49m_values, \u001b[39mformat\u001b[39;49m)\n\u001b[0;32m   1051\u001b[0m         result \u001b[39m=\u001b[39m arg\u001b[39m.\u001b[39m_constructor(values, index\u001b[39m=\u001b[39marg\u001b[39m.\u001b[39mindex, name\u001b[39m=\u001b[39marg\u001b[39m.\u001b[39mname)\n\u001b[0;32m   1052\u001b[0m \u001b[39melif\u001b[39;00m \u001b[39misinstance\u001b[39m(arg, (ABCDataFrame, abc\u001b[39m.\u001b[39mMutableMapping)):\n",
      "File \u001b[1;32mc:\\Users\\User\\AppData\\Local\\Programs\\Python\\Python311\\Lib\\site-packages\\pandas\\core\\tools\\datetimes.py:453\u001b[0m, in \u001b[0;36m_convert_listlike_datetimes\u001b[1;34m(arg, format, name, utc, unit, errors, dayfirst, yearfirst, exact)\u001b[0m\n\u001b[0;32m    451\u001b[0m \u001b[39m# `format` could be inferred, or user didn't ask for mixed-format parsing.\u001b[39;00m\n\u001b[0;32m    452\u001b[0m \u001b[39mif\u001b[39;00m \u001b[39mformat\u001b[39m \u001b[39mis\u001b[39;00m \u001b[39mnot\u001b[39;00m \u001b[39mNone\u001b[39;00m \u001b[39mand\u001b[39;00m \u001b[39mformat\u001b[39m \u001b[39m!=\u001b[39m \u001b[39m\"\u001b[39m\u001b[39mmixed\u001b[39m\u001b[39m\"\u001b[39m:\n\u001b[1;32m--> 453\u001b[0m     \u001b[39mreturn\u001b[39;00m _array_strptime_with_fallback(arg, name, utc, \u001b[39mformat\u001b[39;49m, exact, errors)\n\u001b[0;32m    455\u001b[0m result, tz_parsed \u001b[39m=\u001b[39m objects_to_datetime64ns(\n\u001b[0;32m    456\u001b[0m     arg,\n\u001b[0;32m    457\u001b[0m     dayfirst\u001b[39m=\u001b[39mdayfirst,\n\u001b[1;32m   (...)\u001b[0m\n\u001b[0;32m    461\u001b[0m     allow_object\u001b[39m=\u001b[39m\u001b[39mTrue\u001b[39;00m,\n\u001b[0;32m    462\u001b[0m )\n\u001b[0;32m    464\u001b[0m \u001b[39mif\u001b[39;00m tz_parsed \u001b[39mis\u001b[39;00m \u001b[39mnot\u001b[39;00m \u001b[39mNone\u001b[39;00m:\n\u001b[0;32m    465\u001b[0m     \u001b[39m# We can take a shortcut since the datetime64 numpy array\u001b[39;00m\n\u001b[0;32m    466\u001b[0m     \u001b[39m# is in UTC\u001b[39;00m\n",
      "File \u001b[1;32mc:\\Users\\User\\AppData\\Local\\Programs\\Python\\Python311\\Lib\\site-packages\\pandas\\core\\tools\\datetimes.py:484\u001b[0m, in \u001b[0;36m_array_strptime_with_fallback\u001b[1;34m(arg, name, utc, fmt, exact, errors)\u001b[0m\n\u001b[0;32m    473\u001b[0m \u001b[39mdef\u001b[39;00m \u001b[39m_array_strptime_with_fallback\u001b[39m(\n\u001b[0;32m    474\u001b[0m     arg,\n\u001b[0;32m    475\u001b[0m     name,\n\u001b[1;32m   (...)\u001b[0m\n\u001b[0;32m    479\u001b[0m     errors: \u001b[39mstr\u001b[39m,\n\u001b[0;32m    480\u001b[0m ) \u001b[39m-\u001b[39m\u001b[39m>\u001b[39m Index:\n\u001b[0;32m    481\u001b[0m \u001b[39m    \u001b[39m\u001b[39m\"\"\"\u001b[39;00m\n\u001b[0;32m    482\u001b[0m \u001b[39m    Call array_strptime, with fallback behavior depending on 'errors'.\u001b[39;00m\n\u001b[0;32m    483\u001b[0m \u001b[39m    \"\"\"\u001b[39;00m\n\u001b[1;32m--> 484\u001b[0m     result, timezones \u001b[39m=\u001b[39m array_strptime(arg, fmt, exact\u001b[39m=\u001b[39;49mexact, errors\u001b[39m=\u001b[39;49merrors, utc\u001b[39m=\u001b[39;49mutc)\n\u001b[0;32m    485\u001b[0m     \u001b[39mif\u001b[39;00m \u001b[39many\u001b[39m(tz \u001b[39mis\u001b[39;00m \u001b[39mnot\u001b[39;00m \u001b[39mNone\u001b[39;00m \u001b[39mfor\u001b[39;00m tz \u001b[39min\u001b[39;00m timezones):\n\u001b[0;32m    486\u001b[0m         \u001b[39mreturn\u001b[39;00m _return_parsed_timezone_results(result, timezones, utc, name)\n",
      "File \u001b[1;32mc:\\Users\\User\\AppData\\Local\\Programs\\Python\\Python311\\Lib\\site-packages\\pandas\\_libs\\tslibs\\strptime.pyx:530\u001b[0m, in \u001b[0;36mpandas._libs.tslibs.strptime.array_strptime\u001b[1;34m()\u001b[0m\n",
      "File \u001b[1;32mc:\\Users\\User\\AppData\\Local\\Programs\\Python\\Python311\\Lib\\site-packages\\pandas\\_libs\\tslibs\\strptime.pyx:351\u001b[0m, in \u001b[0;36mpandas._libs.tslibs.strptime.array_strptime\u001b[1;34m()\u001b[0m\n",
      "\u001b[1;31mValueError\u001b[0m: time data \"19-11-22\" doesn't match format \"%Y-%m-%d %H:%M:%S\", at position 1953. You might want to try:\n    - passing `format` if your strings have a consistent format;\n    - passing `format='ISO8601'` if your strings are all ISO8601 but not necessarily in exactly the same format;\n    - passing `format='mixed'`, and the format will be inferred for each element individually. You might want to use `dayfirst` alongside this."
     ]
    }
   ],
   "source": [
    "df['FECHA']= pd.to_datetime(df['FECHA'])"
   ]
  },
  {
   "cell_type": "code",
   "execution_count": null,
   "metadata": {},
   "outputs": [],
   "source": [
    "df.set_index('FECHA', inplace=True)\n",
    "# print(df.index)\n",
    "# print(df.head(20))\n",
    "# print (df.iloc[1220:1230, 1:3])\n",
    "\n",
    "# # for mal_fecha in df['FECHA']:\n",
    "# #     if mal_fecha == 'nd':\n",
    "# #         print(f'este es', mal_fecha)\n",
    "df.drop(index='nd', inplace= True)\n",
    "\n",
    "print (df.iloc[1220:1230, 1:3])"
   ]
  }
 ],
 "metadata": {
  "kernelspec": {
   "display_name": "Python 3",
   "language": "python",
   "name": "python3"
  },
  "language_info": {
   "codemirror_mode": {
    "name": "ipython",
    "version": 3
   },
   "file_extension": ".py",
   "mimetype": "text/x-python",
   "name": "python",
   "nbconvert_exporter": "python",
   "pygments_lexer": "ipython3",
   "version": "3.11.3"
  },
  "orig_nbformat": 4
 },
 "nbformat": 4,
 "nbformat_minor": 2
}
